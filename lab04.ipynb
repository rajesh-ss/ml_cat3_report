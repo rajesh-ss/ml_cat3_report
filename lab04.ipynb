{
  "cells": [
    {
      "cell_type": "code",
      "execution_count": null,
      "metadata": {
        "colab": {
          "base_uri": "https://localhost:8080/"
        },
        "id": "S3iZry168WOu",
        "outputId": "38dbb938-6313-4f07-d2e0-d17d03c01e41"
      },
      "outputs": [
        {
          "name": "stdout",
          "output_type": "stream",
          "text": [
            "Drive already mounted at /content/drive; to attempt to forcibly remount, call drive.mount(\"/content/drive\", force_remount=True).\n"
          ]
        }
      ],
      "source": [
        "from google.colab import drive\n",
        "drive.mount('/content/drive')"
      ]
    },
    {
      "cell_type": "code",
      "execution_count": null,
      "metadata": {
        "colab": {
          "base_uri": "https://localhost:8080/"
        },
        "id": "ah4LQjdS8Zht",
        "outputId": "78b0fb1d-004a-4d05-9fc1-79eb79af5c3a"
      },
      "outputs": [
        {
          "name": "stdout",
          "output_type": "stream",
          "text": [
            "/content/drive/MyDrive/ml\n"
          ]
        }
      ],
      "source": [
        "%cd /content/drive/MyDrive/ml"
      ]
    },
    {
      "cell_type": "markdown",
      "metadata": {
        "id": "GYW-ulDc8qKL"
      },
      "source": [
        "import essential libraries"
      ]
    },
    {
      "cell_type": "code",
      "execution_count": null,
      "metadata": {
        "id": "wBnwi3X08sRW"
      },
      "outputs": [],
      "source": [
        "import numpy as np\n",
        "import pandas as pd\n",
        "import matplotlib.pyplot as plt\n",
        "%matplotlib inline\n",
        "import seaborn as sns\n",
        "from sklearn.preprocessing import MinMaxScaler\n",
        "from sklearn.preprocessing import StandardScaler\n",
        "from sklearn.neighbors import KNeighborsClassifier\n",
        "from sklearn.metrics import classification_report, confusion_matrix\n",
        "from sklearn.model_selection import train_test_split\n",
        "from sklearn import metrics\n",
        "from sklearn.metrics import accuracy_score\n",
        "from sklearn.preprocessing import OrdinalEncoder"
      ]
    },
    {
      "cell_type": "markdown",
      "metadata": {
        "id": "Td9R10l780YR"
      },
      "source": [
        "# **Reading the data set**\n"
      ]
    },
    {
      "cell_type": "code",
      "execution_count": null,
      "metadata": {
        "id": "CVtFSOOW87Fp"
      },
      "outputs": [],
      "source": [
        "df = pd.read_csv('supermarket.csv')"
      ]
    },
    {
      "cell_type": "code",
      "execution_count": null,
      "metadata": {
        "colab": {
          "base_uri": "https://localhost:8080/",
          "height": 354
        },
        "id": "qmWJrDjP8_XR",
        "outputId": "fdb0197b-04be-4c76-d307-bb68ca86fc66"
      },
      "outputs": [
        {
          "data": {
            "text/html": [
              "<div>\n",
              "<style scoped>\n",
              "    .dataframe tbody tr th:only-of-type {\n",
              "        vertical-align: middle;\n",
              "    }\n",
              "\n",
              "    .dataframe tbody tr th {\n",
              "        vertical-align: top;\n",
              "    }\n",
              "\n",
              "    .dataframe thead th {\n",
              "        text-align: right;\n",
              "    }\n",
              "</style>\n",
              "<table border=\"1\" class=\"dataframe\">\n",
              "  <thead>\n",
              "    <tr style=\"text-align: right;\">\n",
              "      <th></th>\n",
              "      <th>Invoice ID</th>\n",
              "      <th>Branch</th>\n",
              "      <th>City</th>\n",
              "      <th>Customer type</th>\n",
              "      <th>Gender</th>\n",
              "      <th>Product line</th>\n",
              "      <th>Unit price</th>\n",
              "      <th>Quantity</th>\n",
              "      <th>Tax 5%</th>\n",
              "      <th>Total</th>\n",
              "      <th>Date</th>\n",
              "      <th>Time</th>\n",
              "      <th>Payment</th>\n",
              "      <th>cogs</th>\n",
              "      <th>gross margin percentage</th>\n",
              "      <th>gross income</th>\n",
              "      <th>Rating</th>\n",
              "    </tr>\n",
              "  </thead>\n",
              "  <tbody>\n",
              "    <tr>\n",
              "      <th>0</th>\n",
              "      <td>750-67-8428</td>\n",
              "      <td>A</td>\n",
              "      <td>Yangon</td>\n",
              "      <td>Member</td>\n",
              "      <td>Female</td>\n",
              "      <td>Health and beauty</td>\n",
              "      <td>74.69</td>\n",
              "      <td>7</td>\n",
              "      <td>26.1415</td>\n",
              "      <td>548.9715</td>\n",
              "      <td>1/5/2019</td>\n",
              "      <td>13:08</td>\n",
              "      <td>Ewallet</td>\n",
              "      <td>522.83</td>\n",
              "      <td>4.761905</td>\n",
              "      <td>26.1415</td>\n",
              "      <td>9.1</td>\n",
              "    </tr>\n",
              "    <tr>\n",
              "      <th>1</th>\n",
              "      <td>226-31-3081</td>\n",
              "      <td>C</td>\n",
              "      <td>Naypyitaw</td>\n",
              "      <td>Normal</td>\n",
              "      <td>Female</td>\n",
              "      <td>Electronic accessories</td>\n",
              "      <td>15.28</td>\n",
              "      <td>5</td>\n",
              "      <td>3.8200</td>\n",
              "      <td>80.2200</td>\n",
              "      <td>3/8/2019</td>\n",
              "      <td>10:29</td>\n",
              "      <td>Cash</td>\n",
              "      <td>76.40</td>\n",
              "      <td>4.761905</td>\n",
              "      <td>3.8200</td>\n",
              "      <td>9.6</td>\n",
              "    </tr>\n",
              "    <tr>\n",
              "      <th>2</th>\n",
              "      <td>631-41-3108</td>\n",
              "      <td>A</td>\n",
              "      <td>Yangon</td>\n",
              "      <td>Normal</td>\n",
              "      <td>Male</td>\n",
              "      <td>Home and lifestyle</td>\n",
              "      <td>46.33</td>\n",
              "      <td>7</td>\n",
              "      <td>16.2155</td>\n",
              "      <td>340.5255</td>\n",
              "      <td>3/3/2019</td>\n",
              "      <td>13:23</td>\n",
              "      <td>Credit card</td>\n",
              "      <td>324.31</td>\n",
              "      <td>4.761905</td>\n",
              "      <td>16.2155</td>\n",
              "      <td>7.4</td>\n",
              "    </tr>\n",
              "    <tr>\n",
              "      <th>3</th>\n",
              "      <td>123-19-1176</td>\n",
              "      <td>A</td>\n",
              "      <td>Yangon</td>\n",
              "      <td>Member</td>\n",
              "      <td>Male</td>\n",
              "      <td>Health and beauty</td>\n",
              "      <td>58.22</td>\n",
              "      <td>8</td>\n",
              "      <td>23.2880</td>\n",
              "      <td>489.0480</td>\n",
              "      <td>1/27/2019</td>\n",
              "      <td>20:33</td>\n",
              "      <td>Ewallet</td>\n",
              "      <td>465.76</td>\n",
              "      <td>4.761905</td>\n",
              "      <td>23.2880</td>\n",
              "      <td>8.4</td>\n",
              "    </tr>\n",
              "    <tr>\n",
              "      <th>4</th>\n",
              "      <td>373-73-7910</td>\n",
              "      <td>A</td>\n",
              "      <td>Yangon</td>\n",
              "      <td>Normal</td>\n",
              "      <td>Male</td>\n",
              "      <td>Sports and travel</td>\n",
              "      <td>86.31</td>\n",
              "      <td>7</td>\n",
              "      <td>30.2085</td>\n",
              "      <td>634.3785</td>\n",
              "      <td>2/8/2019</td>\n",
              "      <td>10:37</td>\n",
              "      <td>Ewallet</td>\n",
              "      <td>604.17</td>\n",
              "      <td>4.761905</td>\n",
              "      <td>30.2085</td>\n",
              "      <td>5.3</td>\n",
              "    </tr>\n",
              "  </tbody>\n",
              "</table>\n",
              "</div>"
            ],
            "text/plain": [
              "    Invoice ID Branch       City Customer type  Gender  \\\n",
              "0  750-67-8428      A     Yangon        Member  Female   \n",
              "1  226-31-3081      C  Naypyitaw        Normal  Female   \n",
              "2  631-41-3108      A     Yangon        Normal    Male   \n",
              "3  123-19-1176      A     Yangon        Member    Male   \n",
              "4  373-73-7910      A     Yangon        Normal    Male   \n",
              "\n",
              "             Product line  Unit price  Quantity   Tax 5%     Total       Date  \\\n",
              "0       Health and beauty       74.69         7  26.1415  548.9715   1/5/2019   \n",
              "1  Electronic accessories       15.28         5   3.8200   80.2200   3/8/2019   \n",
              "2      Home and lifestyle       46.33         7  16.2155  340.5255   3/3/2019   \n",
              "3       Health and beauty       58.22         8  23.2880  489.0480  1/27/2019   \n",
              "4       Sports and travel       86.31         7  30.2085  634.3785   2/8/2019   \n",
              "\n",
              "    Time      Payment    cogs  gross margin percentage  gross income  Rating  \n",
              "0  13:08      Ewallet  522.83                 4.761905       26.1415     9.1  \n",
              "1  10:29         Cash   76.40                 4.761905        3.8200     9.6  \n",
              "2  13:23  Credit card  324.31                 4.761905       16.2155     7.4  \n",
              "3  20:33      Ewallet  465.76                 4.761905       23.2880     8.4  \n",
              "4  10:37      Ewallet  604.17                 4.761905       30.2085     5.3  "
            ]
          },
          "execution_count": 78,
          "metadata": {},
          "output_type": "execute_result"
        }
      ],
      "source": [
        "df.head()"
      ]
    },
    {
      "cell_type": "markdown",
      "metadata": {
        "id": "OvlQQP6u9M0h"
      },
      "source": [
        "# 1. Identifying unique values\n",
        "\n",
        "identifying unique values in all the columns\n",
        "\n"
      ]
    },
    {
      "cell_type": "code",
      "execution_count": null,
      "metadata": {
        "id": "Ie1krU339MVB"
      },
      "outputs": [],
      "source": [
        "def findUnique(col):\n",
        "    print(\"The number of unique values are \"+ str(df[col].nunique()))\n",
        "    print(\"The unique values are :\")\n",
        "    print( df[col].unique())"
      ]
    },
    {
      "cell_type": "code",
      "execution_count": null,
      "metadata": {
        "colab": {
          "base_uri": "https://localhost:8080/"
        },
        "id": "ftg5R6Fp9ufB",
        "outputId": "483af4fa-c3a2-49ac-d578-8e2b3485f5f4"
      },
      "outputs": [
        {
          "name": "stdout",
          "output_type": "stream",
          "text": [
            "The number of unique values are 3\n",
            "The unique values are :\n",
            "['Yangon' 'Naypyitaw' 'Mandalay']\n"
          ]
        }
      ],
      "source": [
        "# unique for city\n",
        "findUnique('City')"
      ]
    },
    {
      "cell_type": "code",
      "execution_count": null,
      "metadata": {
        "colab": {
          "base_uri": "https://localhost:8080/"
        },
        "id": "rpYGoHDS-AuS",
        "outputId": "1bbc0cea-e78b-4448-870f-7e27c9dc0a4d"
      },
      "outputs": [
        {
          "name": "stdout",
          "output_type": "stream",
          "text": [
            "The number of unique values are 2\n",
            "The unique values are :\n",
            "['Female' 'Male']\n"
          ]
        }
      ],
      "source": [
        "# unique for Gender\n",
        "findUnique('Gender')\n"
      ]
    },
    {
      "cell_type": "code",
      "execution_count": null,
      "metadata": {
        "colab": {
          "base_uri": "https://localhost:8080/"
        },
        "id": "tgOFzOe0-iOr",
        "outputId": "37eba0d0-e6f4-4bb3-c614-b347a66ab2f7"
      },
      "outputs": [
        {
          "name": "stdout",
          "output_type": "stream",
          "text": [
            "The number of unique values are 3\n",
            "The unique values are :\n",
            "['A' 'C' 'B']\n"
          ]
        }
      ],
      "source": [
        "# unique for Branch\n",
        "findUnique('Branch')\n"
      ]
    },
    {
      "cell_type": "code",
      "execution_count": null,
      "metadata": {
        "colab": {
          "base_uri": "https://localhost:8080/"
        },
        "id": "i-GuTqYa-lbj",
        "outputId": "72b0f91a-0ffc-414b-a611-a365d0eda0d5"
      },
      "outputs": [
        {
          "name": "stdout",
          "output_type": "stream",
          "text": [
            "The number of unique values are 6\n",
            "The unique values are :\n",
            "['Health and beauty' 'Electronic accessories' 'Home and lifestyle'\n",
            " 'Sports and travel' 'Food and beverages' 'Fashion accessories']\n"
          ]
        }
      ],
      "source": [
        "# unique for Product line\n",
        "findUnique('Product line')"
      ]
    },
    {
      "cell_type": "code",
      "execution_count": null,
      "metadata": {
        "colab": {
          "base_uri": "https://localhost:8080/"
        },
        "id": "kTGux-GI-omT",
        "outputId": "b09c9fdc-01b2-41f4-e91d-f13b3451819e"
      },
      "outputs": [
        {
          "name": "stdout",
          "output_type": "stream",
          "text": [
            "The number of unique values are 3\n",
            "The unique values are :\n",
            "['Ewallet' 'Cash' 'Credit card']\n"
          ]
        }
      ],
      "source": [
        "# unique for Payment\n",
        "findUnique('Payment')"
      ]
    },
    {
      "cell_type": "code",
      "execution_count": null,
      "metadata": {
        "colab": {
          "base_uri": "https://localhost:8080/"
        },
        "id": "KF23UcXG-twr",
        "outputId": "fc47badb-7e57-4485-e95b-aa38716aa740"
      },
      "outputs": [
        {
          "name": "stdout",
          "output_type": "stream",
          "text": [
            "The number of unique values are 2\n",
            "The unique values are :\n",
            "['Member' 'Normal']\n"
          ]
        }
      ],
      "source": [
        "# unique for Customer type\n",
        "findUnique('Customer type')"
      ]
    },
    {
      "cell_type": "code",
      "execution_count": null,
      "metadata": {
        "id": "gvrlrB9w-2Ty"
      },
      "outputs": [],
      "source": []
    },
    {
      "cell_type": "markdown",
      "metadata": {
        "id": "BmWmPB9x-_rS"
      },
      "source": [
        "2. Finding Missing values\n",
        "--> Finding missing values in the dataset"
      ]
    },
    {
      "cell_type": "code",
      "execution_count": null,
      "metadata": {
        "colab": {
          "base_uri": "https://localhost:8080/",
          "height": 354
        },
        "id": "xvJp5BY7_D7D",
        "outputId": "34777b2b-af5d-438a-8860-079904fb29d1"
      },
      "outputs": [
        {
          "data": {
            "text/html": [
              "<div>\n",
              "<style scoped>\n",
              "    .dataframe tbody tr th:only-of-type {\n",
              "        vertical-align: middle;\n",
              "    }\n",
              "\n",
              "    .dataframe tbody tr th {\n",
              "        vertical-align: top;\n",
              "    }\n",
              "\n",
              "    .dataframe thead th {\n",
              "        text-align: right;\n",
              "    }\n",
              "</style>\n",
              "<table border=\"1\" class=\"dataframe\">\n",
              "  <thead>\n",
              "    <tr style=\"text-align: right;\">\n",
              "      <th></th>\n",
              "      <th>Invoice ID</th>\n",
              "      <th>Branch</th>\n",
              "      <th>City</th>\n",
              "      <th>Customer type</th>\n",
              "      <th>Gender</th>\n",
              "      <th>Product line</th>\n",
              "      <th>Unit price</th>\n",
              "      <th>Quantity</th>\n",
              "      <th>Tax 5%</th>\n",
              "      <th>Total</th>\n",
              "      <th>Date</th>\n",
              "      <th>Time</th>\n",
              "      <th>Payment</th>\n",
              "      <th>cogs</th>\n",
              "      <th>gross margin percentage</th>\n",
              "      <th>gross income</th>\n",
              "      <th>Rating</th>\n",
              "    </tr>\n",
              "  </thead>\n",
              "  <tbody>\n",
              "    <tr>\n",
              "      <th>0</th>\n",
              "      <td>750-67-8428</td>\n",
              "      <td>A</td>\n",
              "      <td>Yangon</td>\n",
              "      <td>Member</td>\n",
              "      <td>Female</td>\n",
              "      <td>Health and beauty</td>\n",
              "      <td>74.69</td>\n",
              "      <td>7</td>\n",
              "      <td>26.1415</td>\n",
              "      <td>548.9715</td>\n",
              "      <td>1/5/2019</td>\n",
              "      <td>13:08</td>\n",
              "      <td>Ewallet</td>\n",
              "      <td>522.83</td>\n",
              "      <td>4.761905</td>\n",
              "      <td>26.1415</td>\n",
              "      <td>9.1</td>\n",
              "    </tr>\n",
              "    <tr>\n",
              "      <th>1</th>\n",
              "      <td>226-31-3081</td>\n",
              "      <td>C</td>\n",
              "      <td>Naypyitaw</td>\n",
              "      <td>Normal</td>\n",
              "      <td>Female</td>\n",
              "      <td>Electronic accessories</td>\n",
              "      <td>15.28</td>\n",
              "      <td>5</td>\n",
              "      <td>3.8200</td>\n",
              "      <td>80.2200</td>\n",
              "      <td>3/8/2019</td>\n",
              "      <td>10:29</td>\n",
              "      <td>Cash</td>\n",
              "      <td>76.40</td>\n",
              "      <td>4.761905</td>\n",
              "      <td>3.8200</td>\n",
              "      <td>9.6</td>\n",
              "    </tr>\n",
              "    <tr>\n",
              "      <th>2</th>\n",
              "      <td>631-41-3108</td>\n",
              "      <td>A</td>\n",
              "      <td>Yangon</td>\n",
              "      <td>Normal</td>\n",
              "      <td>Male</td>\n",
              "      <td>Home and lifestyle</td>\n",
              "      <td>46.33</td>\n",
              "      <td>7</td>\n",
              "      <td>16.2155</td>\n",
              "      <td>340.5255</td>\n",
              "      <td>3/3/2019</td>\n",
              "      <td>13:23</td>\n",
              "      <td>Credit card</td>\n",
              "      <td>324.31</td>\n",
              "      <td>4.761905</td>\n",
              "      <td>16.2155</td>\n",
              "      <td>7.4</td>\n",
              "    </tr>\n",
              "    <tr>\n",
              "      <th>3</th>\n",
              "      <td>123-19-1176</td>\n",
              "      <td>A</td>\n",
              "      <td>Yangon</td>\n",
              "      <td>Member</td>\n",
              "      <td>Male</td>\n",
              "      <td>Health and beauty</td>\n",
              "      <td>58.22</td>\n",
              "      <td>8</td>\n",
              "      <td>23.2880</td>\n",
              "      <td>489.0480</td>\n",
              "      <td>1/27/2019</td>\n",
              "      <td>20:33</td>\n",
              "      <td>Ewallet</td>\n",
              "      <td>465.76</td>\n",
              "      <td>4.761905</td>\n",
              "      <td>23.2880</td>\n",
              "      <td>8.4</td>\n",
              "    </tr>\n",
              "    <tr>\n",
              "      <th>4</th>\n",
              "      <td>373-73-7910</td>\n",
              "      <td>A</td>\n",
              "      <td>Yangon</td>\n",
              "      <td>Normal</td>\n",
              "      <td>Male</td>\n",
              "      <td>Sports and travel</td>\n",
              "      <td>86.31</td>\n",
              "      <td>7</td>\n",
              "      <td>30.2085</td>\n",
              "      <td>634.3785</td>\n",
              "      <td>2/8/2019</td>\n",
              "      <td>10:37</td>\n",
              "      <td>Ewallet</td>\n",
              "      <td>604.17</td>\n",
              "      <td>4.761905</td>\n",
              "      <td>30.2085</td>\n",
              "      <td>5.3</td>\n",
              "    </tr>\n",
              "  </tbody>\n",
              "</table>\n",
              "</div>"
            ],
            "text/plain": [
              "    Invoice ID Branch       City Customer type  Gender  \\\n",
              "0  750-67-8428      A     Yangon        Member  Female   \n",
              "1  226-31-3081      C  Naypyitaw        Normal  Female   \n",
              "2  631-41-3108      A     Yangon        Normal    Male   \n",
              "3  123-19-1176      A     Yangon        Member    Male   \n",
              "4  373-73-7910      A     Yangon        Normal    Male   \n",
              "\n",
              "             Product line  Unit price  Quantity   Tax 5%     Total       Date  \\\n",
              "0       Health and beauty       74.69         7  26.1415  548.9715   1/5/2019   \n",
              "1  Electronic accessories       15.28         5   3.8200   80.2200   3/8/2019   \n",
              "2      Home and lifestyle       46.33         7  16.2155  340.5255   3/3/2019   \n",
              "3       Health and beauty       58.22         8  23.2880  489.0480  1/27/2019   \n",
              "4       Sports and travel       86.31         7  30.2085  634.3785   2/8/2019   \n",
              "\n",
              "    Time      Payment    cogs  gross margin percentage  gross income  Rating  \n",
              "0  13:08      Ewallet  522.83                 4.761905       26.1415     9.1  \n",
              "1  10:29         Cash   76.40                 4.761905        3.8200     9.6  \n",
              "2  13:23  Credit card  324.31                 4.761905       16.2155     7.4  \n",
              "3  20:33      Ewallet  465.76                 4.761905       23.2880     8.4  \n",
              "4  10:37      Ewallet  604.17                 4.761905       30.2085     5.3  "
            ]
          },
          "execution_count": 86,
          "metadata": {},
          "output_type": "execute_result"
        }
      ],
      "source": [
        "df.head()"
      ]
    },
    {
      "cell_type": "markdown",
      "metadata": {
        "id": "OMOKld1M_9Xx"
      },
      "source": [
        "# Find all the missing values in the dataset\n",
        "# From result we can see that there are no missing values in this dataset"
      ]
    },
    {
      "cell_type": "code",
      "execution_count": null,
      "metadata": {
        "colab": {
          "base_uri": "https://localhost:8080/"
        },
        "id": "ioCoIjB5_t4I",
        "outputId": "e9c7f326-eabf-458b-e181-e49ac108d217"
      },
      "outputs": [
        {
          "data": {
            "text/plain": [
              "Invoice ID                 0\n",
              "Branch                     0\n",
              "City                       0\n",
              "Customer type              0\n",
              "Gender                     0\n",
              "Product line               0\n",
              "Unit price                 0\n",
              "Quantity                   0\n",
              "Tax 5%                     0\n",
              "Total                      0\n",
              "Date                       0\n",
              "Time                       0\n",
              "Payment                    0\n",
              "cogs                       0\n",
              "gross margin percentage    0\n",
              "gross income               0\n",
              "Rating                     0\n",
              "dtype: int64"
            ]
          },
          "execution_count": 87,
          "metadata": {},
          "output_type": "execute_result"
        }
      ],
      "source": [
        "df.isnull().sum()"
      ]
    },
    {
      "cell_type": "code",
      "execution_count": null,
      "metadata": {
        "id": "KyZPwhtp_1JI"
      },
      "outputs": [],
      "source": []
    },
    {
      "cell_type": "markdown",
      "metadata": {
        "id": "U13rWHD_A1Sw"
      },
      "source": [
        "# 3. Replacing missing values and null values"
      ]
    },
    {
      "cell_type": "code",
      "execution_count": null,
      "metadata": {
        "id": "l_QZPj-WA4do"
      },
      "outputs": [],
      "source": [
        "#df['Branch'].replace(['A', 'B', 'C'],[1,2,3],inplace=True)"
      ]
    },
    {
      "cell_type": "code",
      "execution_count": null,
      "metadata": {
        "colab": {
          "base_uri": "https://localhost:8080/",
          "height": 206
        },
        "id": "6NjiSyTdBSkd",
        "outputId": "ff6ddd97-ad46-4e3c-defc-a624f7a309f0"
      },
      "outputs": [
        {
          "data": {
            "text/html": [
              "<div>\n",
              "<style scoped>\n",
              "    .dataframe tbody tr th:only-of-type {\n",
              "        vertical-align: middle;\n",
              "    }\n",
              "\n",
              "    .dataframe tbody tr th {\n",
              "        vertical-align: top;\n",
              "    }\n",
              "\n",
              "    .dataframe thead th {\n",
              "        text-align: right;\n",
              "    }\n",
              "</style>\n",
              "<table border=\"1\" class=\"dataframe\">\n",
              "  <thead>\n",
              "    <tr style=\"text-align: right;\">\n",
              "      <th></th>\n",
              "      <th>Unit price</th>\n",
              "      <th>Quantity</th>\n",
              "      <th>Tax 5%</th>\n",
              "      <th>Total</th>\n",
              "      <th>cogs</th>\n",
              "      <th>gross margin percentage</th>\n",
              "      <th>gross income</th>\n",
              "      <th>Rating</th>\n",
              "    </tr>\n",
              "  </thead>\n",
              "  <tbody>\n",
              "    <tr>\n",
              "      <th>0</th>\n",
              "      <td>74.69</td>\n",
              "      <td>7</td>\n",
              "      <td>26.1415</td>\n",
              "      <td>548.9715</td>\n",
              "      <td>522.83</td>\n",
              "      <td>4.761905</td>\n",
              "      <td>26.1415</td>\n",
              "      <td>9.1</td>\n",
              "    </tr>\n",
              "    <tr>\n",
              "      <th>1</th>\n",
              "      <td>15.28</td>\n",
              "      <td>5</td>\n",
              "      <td>3.8200</td>\n",
              "      <td>80.2200</td>\n",
              "      <td>76.40</td>\n",
              "      <td>4.761905</td>\n",
              "      <td>3.8200</td>\n",
              "      <td>9.6</td>\n",
              "    </tr>\n",
              "    <tr>\n",
              "      <th>2</th>\n",
              "      <td>46.33</td>\n",
              "      <td>7</td>\n",
              "      <td>16.2155</td>\n",
              "      <td>340.5255</td>\n",
              "      <td>324.31</td>\n",
              "      <td>4.761905</td>\n",
              "      <td>16.2155</td>\n",
              "      <td>7.4</td>\n",
              "    </tr>\n",
              "    <tr>\n",
              "      <th>3</th>\n",
              "      <td>58.22</td>\n",
              "      <td>8</td>\n",
              "      <td>23.2880</td>\n",
              "      <td>489.0480</td>\n",
              "      <td>465.76</td>\n",
              "      <td>4.761905</td>\n",
              "      <td>23.2880</td>\n",
              "      <td>8.4</td>\n",
              "    </tr>\n",
              "    <tr>\n",
              "      <th>4</th>\n",
              "      <td>86.31</td>\n",
              "      <td>7</td>\n",
              "      <td>30.2085</td>\n",
              "      <td>634.3785</td>\n",
              "      <td>604.17</td>\n",
              "      <td>4.761905</td>\n",
              "      <td>30.2085</td>\n",
              "      <td>5.3</td>\n",
              "    </tr>\n",
              "  </tbody>\n",
              "</table>\n",
              "</div>"
            ],
            "text/plain": [
              "   Unit price  Quantity   Tax 5%     Total    cogs  gross margin percentage  \\\n",
              "0       74.69         7  26.1415  548.9715  522.83                 4.761905   \n",
              "1       15.28         5   3.8200   80.2200   76.40                 4.761905   \n",
              "2       46.33         7  16.2155  340.5255  324.31                 4.761905   \n",
              "3       58.22         8  23.2880  489.0480  465.76                 4.761905   \n",
              "4       86.31         7  30.2085  634.3785  604.17                 4.761905   \n",
              "\n",
              "   gross income  Rating  \n",
              "0       26.1415     9.1  \n",
              "1        3.8200     9.6  \n",
              "2       16.2155     7.4  \n",
              "3       23.2880     8.4  \n",
              "4       30.2085     5.3  "
            ]
          },
          "execution_count": 89,
          "metadata": {},
          "output_type": "execute_result"
        }
      ],
      "source": [
        "# get the numerical data alone\n",
        "dn = df._get_numeric_data()\n",
        "dn.head()"
      ]
    },
    {
      "cell_type": "markdown",
      "metadata": {
        "id": "o7iLgZiVC_ph"
      },
      "source": [
        "**Filling all nan values with the mean of the column**"
      ]
    },
    {
      "cell_type": "code",
      "execution_count": null,
      "metadata": {
        "id": "cGkBTuYiBVRv"
      },
      "outputs": [],
      "source": [
        "for col in dn.columns:\n",
        "    dn[col].fillna(dn[col].mean(), inplace=True)"
      ]
    },
    {
      "cell_type": "markdown",
      "metadata": {
        "id": "IZ2Q9iPTGrO0"
      },
      "source": [
        "Filling non numeric columns with missing values with I am Nan "
      ]
    },
    {
      "cell_type": "code",
      "execution_count": null,
      "metadata": {
        "colab": {
          "base_uri": "https://localhost:8080/"
        },
        "id": "65IasCasCJdN",
        "outputId": "5b14c28e-f98b-49ea-cde8-f24015c6055f"
      },
      "outputs": [
        {
          "name": "stdout",
          "output_type": "stream",
          "text": [
            "None\n",
            "None\n",
            "None\n",
            "None\n",
            "None\n",
            "None\n",
            "None\n",
            "None\n",
            "None\n"
          ]
        }
      ],
      "source": [
        "for col in df.columns:\n",
        "    if df[col].dtypes == 'object':\n",
        "        print(df[col].fillna('i am Nan', inplace=True))"
      ]
    },
    {
      "cell_type": "code",
      "execution_count": null,
      "metadata": {
        "colab": {
          "base_uri": "https://localhost:8080/",
          "height": 676
        },
        "id": "35lVsG5iEW98",
        "outputId": "6d3b4527-5c3b-4f07-93af-072ab1b4b6ff"
      },
      "outputs": [
        {
          "data": {
            "text/html": [
              "<div>\n",
              "<style scoped>\n",
              "    .dataframe tbody tr th:only-of-type {\n",
              "        vertical-align: middle;\n",
              "    }\n",
              "\n",
              "    .dataframe tbody tr th {\n",
              "        vertical-align: top;\n",
              "    }\n",
              "\n",
              "    .dataframe thead th {\n",
              "        text-align: right;\n",
              "    }\n",
              "</style>\n",
              "<table border=\"1\" class=\"dataframe\">\n",
              "  <thead>\n",
              "    <tr style=\"text-align: right;\">\n",
              "      <th></th>\n",
              "      <th>Invoice ID</th>\n",
              "      <th>Branch</th>\n",
              "      <th>City</th>\n",
              "      <th>Customer type</th>\n",
              "      <th>Gender</th>\n",
              "      <th>Product line</th>\n",
              "      <th>Unit price</th>\n",
              "      <th>Quantity</th>\n",
              "      <th>Tax 5%</th>\n",
              "      <th>Total</th>\n",
              "      <th>Date</th>\n",
              "      <th>Time</th>\n",
              "      <th>Payment</th>\n",
              "      <th>cogs</th>\n",
              "      <th>gross margin percentage</th>\n",
              "      <th>gross income</th>\n",
              "      <th>Rating</th>\n",
              "    </tr>\n",
              "  </thead>\n",
              "  <tbody>\n",
              "    <tr>\n",
              "      <th>0</th>\n",
              "      <td>750-67-8428</td>\n",
              "      <td>A</td>\n",
              "      <td>Yangon</td>\n",
              "      <td>Member</td>\n",
              "      <td>Female</td>\n",
              "      <td>Health and beauty</td>\n",
              "      <td>74.69</td>\n",
              "      <td>7</td>\n",
              "      <td>26.1415</td>\n",
              "      <td>548.9715</td>\n",
              "      <td>1/5/2019</td>\n",
              "      <td>13:08</td>\n",
              "      <td>Ewallet</td>\n",
              "      <td>522.83</td>\n",
              "      <td>4.761905</td>\n",
              "      <td>26.1415</td>\n",
              "      <td>9.1</td>\n",
              "    </tr>\n",
              "    <tr>\n",
              "      <th>1</th>\n",
              "      <td>226-31-3081</td>\n",
              "      <td>C</td>\n",
              "      <td>Naypyitaw</td>\n",
              "      <td>Normal</td>\n",
              "      <td>Female</td>\n",
              "      <td>Electronic accessories</td>\n",
              "      <td>15.28</td>\n",
              "      <td>5</td>\n",
              "      <td>3.8200</td>\n",
              "      <td>80.2200</td>\n",
              "      <td>3/8/2019</td>\n",
              "      <td>10:29</td>\n",
              "      <td>Cash</td>\n",
              "      <td>76.40</td>\n",
              "      <td>4.761905</td>\n",
              "      <td>3.8200</td>\n",
              "      <td>9.6</td>\n",
              "    </tr>\n",
              "    <tr>\n",
              "      <th>2</th>\n",
              "      <td>631-41-3108</td>\n",
              "      <td>A</td>\n",
              "      <td>Yangon</td>\n",
              "      <td>Normal</td>\n",
              "      <td>Male</td>\n",
              "      <td>Home and lifestyle</td>\n",
              "      <td>46.33</td>\n",
              "      <td>7</td>\n",
              "      <td>16.2155</td>\n",
              "      <td>340.5255</td>\n",
              "      <td>3/3/2019</td>\n",
              "      <td>13:23</td>\n",
              "      <td>Credit card</td>\n",
              "      <td>324.31</td>\n",
              "      <td>4.761905</td>\n",
              "      <td>16.2155</td>\n",
              "      <td>7.4</td>\n",
              "    </tr>\n",
              "    <tr>\n",
              "      <th>3</th>\n",
              "      <td>123-19-1176</td>\n",
              "      <td>A</td>\n",
              "      <td>Yangon</td>\n",
              "      <td>Member</td>\n",
              "      <td>Male</td>\n",
              "      <td>Health and beauty</td>\n",
              "      <td>58.22</td>\n",
              "      <td>8</td>\n",
              "      <td>23.2880</td>\n",
              "      <td>489.0480</td>\n",
              "      <td>1/27/2019</td>\n",
              "      <td>20:33</td>\n",
              "      <td>Ewallet</td>\n",
              "      <td>465.76</td>\n",
              "      <td>4.761905</td>\n",
              "      <td>23.2880</td>\n",
              "      <td>8.4</td>\n",
              "    </tr>\n",
              "    <tr>\n",
              "      <th>4</th>\n",
              "      <td>373-73-7910</td>\n",
              "      <td>A</td>\n",
              "      <td>Yangon</td>\n",
              "      <td>Normal</td>\n",
              "      <td>Male</td>\n",
              "      <td>Sports and travel</td>\n",
              "      <td>86.31</td>\n",
              "      <td>7</td>\n",
              "      <td>30.2085</td>\n",
              "      <td>634.3785</td>\n",
              "      <td>2/8/2019</td>\n",
              "      <td>10:37</td>\n",
              "      <td>Ewallet</td>\n",
              "      <td>604.17</td>\n",
              "      <td>4.761905</td>\n",
              "      <td>30.2085</td>\n",
              "      <td>5.3</td>\n",
              "    </tr>\n",
              "    <tr>\n",
              "      <th>...</th>\n",
              "      <td>...</td>\n",
              "      <td>...</td>\n",
              "      <td>...</td>\n",
              "      <td>...</td>\n",
              "      <td>...</td>\n",
              "      <td>...</td>\n",
              "      <td>...</td>\n",
              "      <td>...</td>\n",
              "      <td>...</td>\n",
              "      <td>...</td>\n",
              "      <td>...</td>\n",
              "      <td>...</td>\n",
              "      <td>...</td>\n",
              "      <td>...</td>\n",
              "      <td>...</td>\n",
              "      <td>...</td>\n",
              "      <td>...</td>\n",
              "    </tr>\n",
              "    <tr>\n",
              "      <th>995</th>\n",
              "      <td>233-67-5758</td>\n",
              "      <td>C</td>\n",
              "      <td>Naypyitaw</td>\n",
              "      <td>Normal</td>\n",
              "      <td>Male</td>\n",
              "      <td>Health and beauty</td>\n",
              "      <td>40.35</td>\n",
              "      <td>1</td>\n",
              "      <td>2.0175</td>\n",
              "      <td>42.3675</td>\n",
              "      <td>1/29/2019</td>\n",
              "      <td>13:46</td>\n",
              "      <td>Ewallet</td>\n",
              "      <td>40.35</td>\n",
              "      <td>4.761905</td>\n",
              "      <td>2.0175</td>\n",
              "      <td>6.2</td>\n",
              "    </tr>\n",
              "    <tr>\n",
              "      <th>996</th>\n",
              "      <td>303-96-2227</td>\n",
              "      <td>B</td>\n",
              "      <td>Mandalay</td>\n",
              "      <td>Normal</td>\n",
              "      <td>Female</td>\n",
              "      <td>Home and lifestyle</td>\n",
              "      <td>97.38</td>\n",
              "      <td>10</td>\n",
              "      <td>48.6900</td>\n",
              "      <td>1022.4900</td>\n",
              "      <td>3/2/2019</td>\n",
              "      <td>17:16</td>\n",
              "      <td>Ewallet</td>\n",
              "      <td>973.80</td>\n",
              "      <td>4.761905</td>\n",
              "      <td>48.6900</td>\n",
              "      <td>4.4</td>\n",
              "    </tr>\n",
              "    <tr>\n",
              "      <th>997</th>\n",
              "      <td>727-02-1313</td>\n",
              "      <td>A</td>\n",
              "      <td>Yangon</td>\n",
              "      <td>Member</td>\n",
              "      <td>Male</td>\n",
              "      <td>Food and beverages</td>\n",
              "      <td>31.84</td>\n",
              "      <td>1</td>\n",
              "      <td>1.5920</td>\n",
              "      <td>33.4320</td>\n",
              "      <td>2/9/2019</td>\n",
              "      <td>13:22</td>\n",
              "      <td>Cash</td>\n",
              "      <td>31.84</td>\n",
              "      <td>4.761905</td>\n",
              "      <td>1.5920</td>\n",
              "      <td>7.7</td>\n",
              "    </tr>\n",
              "    <tr>\n",
              "      <th>998</th>\n",
              "      <td>347-56-2442</td>\n",
              "      <td>A</td>\n",
              "      <td>Yangon</td>\n",
              "      <td>Normal</td>\n",
              "      <td>Male</td>\n",
              "      <td>Home and lifestyle</td>\n",
              "      <td>65.82</td>\n",
              "      <td>1</td>\n",
              "      <td>3.2910</td>\n",
              "      <td>69.1110</td>\n",
              "      <td>2/22/2019</td>\n",
              "      <td>15:33</td>\n",
              "      <td>Cash</td>\n",
              "      <td>65.82</td>\n",
              "      <td>4.761905</td>\n",
              "      <td>3.2910</td>\n",
              "      <td>4.1</td>\n",
              "    </tr>\n",
              "    <tr>\n",
              "      <th>999</th>\n",
              "      <td>849-09-3807</td>\n",
              "      <td>A</td>\n",
              "      <td>Yangon</td>\n",
              "      <td>Member</td>\n",
              "      <td>Female</td>\n",
              "      <td>Fashion accessories</td>\n",
              "      <td>88.34</td>\n",
              "      <td>7</td>\n",
              "      <td>30.9190</td>\n",
              "      <td>649.2990</td>\n",
              "      <td>2/18/2019</td>\n",
              "      <td>13:28</td>\n",
              "      <td>Cash</td>\n",
              "      <td>618.38</td>\n",
              "      <td>4.761905</td>\n",
              "      <td>30.9190</td>\n",
              "      <td>6.6</td>\n",
              "    </tr>\n",
              "  </tbody>\n",
              "</table>\n",
              "<p>1000 rows × 17 columns</p>\n",
              "</div>"
            ],
            "text/plain": [
              "      Invoice ID Branch       City Customer type  Gender  \\\n",
              "0    750-67-8428      A     Yangon        Member  Female   \n",
              "1    226-31-3081      C  Naypyitaw        Normal  Female   \n",
              "2    631-41-3108      A     Yangon        Normal    Male   \n",
              "3    123-19-1176      A     Yangon        Member    Male   \n",
              "4    373-73-7910      A     Yangon        Normal    Male   \n",
              "..           ...    ...        ...           ...     ...   \n",
              "995  233-67-5758      C  Naypyitaw        Normal    Male   \n",
              "996  303-96-2227      B   Mandalay        Normal  Female   \n",
              "997  727-02-1313      A     Yangon        Member    Male   \n",
              "998  347-56-2442      A     Yangon        Normal    Male   \n",
              "999  849-09-3807      A     Yangon        Member  Female   \n",
              "\n",
              "               Product line  Unit price  Quantity   Tax 5%      Total  \\\n",
              "0         Health and beauty       74.69         7  26.1415   548.9715   \n",
              "1    Electronic accessories       15.28         5   3.8200    80.2200   \n",
              "2        Home and lifestyle       46.33         7  16.2155   340.5255   \n",
              "3         Health and beauty       58.22         8  23.2880   489.0480   \n",
              "4         Sports and travel       86.31         7  30.2085   634.3785   \n",
              "..                      ...         ...       ...      ...        ...   \n",
              "995       Health and beauty       40.35         1   2.0175    42.3675   \n",
              "996      Home and lifestyle       97.38        10  48.6900  1022.4900   \n",
              "997      Food and beverages       31.84         1   1.5920    33.4320   \n",
              "998      Home and lifestyle       65.82         1   3.2910    69.1110   \n",
              "999     Fashion accessories       88.34         7  30.9190   649.2990   \n",
              "\n",
              "          Date   Time      Payment    cogs  gross margin percentage  \\\n",
              "0     1/5/2019  13:08      Ewallet  522.83                 4.761905   \n",
              "1     3/8/2019  10:29         Cash   76.40                 4.761905   \n",
              "2     3/3/2019  13:23  Credit card  324.31                 4.761905   \n",
              "3    1/27/2019  20:33      Ewallet  465.76                 4.761905   \n",
              "4     2/8/2019  10:37      Ewallet  604.17                 4.761905   \n",
              "..         ...    ...          ...     ...                      ...   \n",
              "995  1/29/2019  13:46      Ewallet   40.35                 4.761905   \n",
              "996   3/2/2019  17:16      Ewallet  973.80                 4.761905   \n",
              "997   2/9/2019  13:22         Cash   31.84                 4.761905   \n",
              "998  2/22/2019  15:33         Cash   65.82                 4.761905   \n",
              "999  2/18/2019  13:28         Cash  618.38                 4.761905   \n",
              "\n",
              "     gross income  Rating  \n",
              "0         26.1415     9.1  \n",
              "1          3.8200     9.6  \n",
              "2         16.2155     7.4  \n",
              "3         23.2880     8.4  \n",
              "4         30.2085     5.3  \n",
              "..            ...     ...  \n",
              "995        2.0175     6.2  \n",
              "996       48.6900     4.4  \n",
              "997        1.5920     7.7  \n",
              "998        3.2910     4.1  \n",
              "999       30.9190     6.6  \n",
              "\n",
              "[1000 rows x 17 columns]"
            ]
          },
          "execution_count": 92,
          "metadata": {},
          "output_type": "execute_result"
        }
      ],
      "source": [
        "df.dropna()"
      ]
    },
    {
      "cell_type": "markdown",
      "metadata": {
        "id": "ZhbKMCgjHKc9"
      },
      "source": [
        " **4. Normalizing the data using standard scaler or minmax scaler**\n"
      ]
    },
    {
      "cell_type": "code",
      "execution_count": null,
      "metadata": {
        "colab": {
          "base_uri": "https://localhost:8080/",
          "height": 354
        },
        "id": "p7k4qy-xNj-N",
        "outputId": "b5ff60cf-0163-4ad5-9036-0a8417f720d6"
      },
      "outputs": [
        {
          "data": {
            "text/html": [
              "<div>\n",
              "<style scoped>\n",
              "    .dataframe tbody tr th:only-of-type {\n",
              "        vertical-align: middle;\n",
              "    }\n",
              "\n",
              "    .dataframe tbody tr th {\n",
              "        vertical-align: top;\n",
              "    }\n",
              "\n",
              "    .dataframe thead th {\n",
              "        text-align: right;\n",
              "    }\n",
              "</style>\n",
              "<table border=\"1\" class=\"dataframe\">\n",
              "  <thead>\n",
              "    <tr style=\"text-align: right;\">\n",
              "      <th></th>\n",
              "      <th>Invoice ID</th>\n",
              "      <th>Branch</th>\n",
              "      <th>City</th>\n",
              "      <th>Customer type</th>\n",
              "      <th>Gender</th>\n",
              "      <th>Product line</th>\n",
              "      <th>Unit price</th>\n",
              "      <th>Quantity</th>\n",
              "      <th>Tax 5%</th>\n",
              "      <th>Total</th>\n",
              "      <th>Date</th>\n",
              "      <th>Time</th>\n",
              "      <th>Payment</th>\n",
              "      <th>cogs</th>\n",
              "      <th>gross margin percentage</th>\n",
              "      <th>gross income</th>\n",
              "      <th>Rating</th>\n",
              "    </tr>\n",
              "  </thead>\n",
              "  <tbody>\n",
              "    <tr>\n",
              "      <th>0</th>\n",
              "      <td>750-67-8428</td>\n",
              "      <td>A</td>\n",
              "      <td>Yangon</td>\n",
              "      <td>Member</td>\n",
              "      <td>Female</td>\n",
              "      <td>Health and beauty</td>\n",
              "      <td>74.69</td>\n",
              "      <td>7</td>\n",
              "      <td>26.1415</td>\n",
              "      <td>548.9715</td>\n",
              "      <td>1/5/2019</td>\n",
              "      <td>13:08</td>\n",
              "      <td>Ewallet</td>\n",
              "      <td>522.83</td>\n",
              "      <td>4.761905</td>\n",
              "      <td>26.1415</td>\n",
              "      <td>9.1</td>\n",
              "    </tr>\n",
              "    <tr>\n",
              "      <th>1</th>\n",
              "      <td>226-31-3081</td>\n",
              "      <td>C</td>\n",
              "      <td>Naypyitaw</td>\n",
              "      <td>Normal</td>\n",
              "      <td>Female</td>\n",
              "      <td>Electronic accessories</td>\n",
              "      <td>15.28</td>\n",
              "      <td>5</td>\n",
              "      <td>3.8200</td>\n",
              "      <td>80.2200</td>\n",
              "      <td>3/8/2019</td>\n",
              "      <td>10:29</td>\n",
              "      <td>Cash</td>\n",
              "      <td>76.40</td>\n",
              "      <td>4.761905</td>\n",
              "      <td>3.8200</td>\n",
              "      <td>9.6</td>\n",
              "    </tr>\n",
              "    <tr>\n",
              "      <th>2</th>\n",
              "      <td>631-41-3108</td>\n",
              "      <td>A</td>\n",
              "      <td>Yangon</td>\n",
              "      <td>Normal</td>\n",
              "      <td>Male</td>\n",
              "      <td>Home and lifestyle</td>\n",
              "      <td>46.33</td>\n",
              "      <td>7</td>\n",
              "      <td>16.2155</td>\n",
              "      <td>340.5255</td>\n",
              "      <td>3/3/2019</td>\n",
              "      <td>13:23</td>\n",
              "      <td>Credit card</td>\n",
              "      <td>324.31</td>\n",
              "      <td>4.761905</td>\n",
              "      <td>16.2155</td>\n",
              "      <td>7.4</td>\n",
              "    </tr>\n",
              "    <tr>\n",
              "      <th>3</th>\n",
              "      <td>123-19-1176</td>\n",
              "      <td>A</td>\n",
              "      <td>Yangon</td>\n",
              "      <td>Member</td>\n",
              "      <td>Male</td>\n",
              "      <td>Health and beauty</td>\n",
              "      <td>58.22</td>\n",
              "      <td>8</td>\n",
              "      <td>23.2880</td>\n",
              "      <td>489.0480</td>\n",
              "      <td>1/27/2019</td>\n",
              "      <td>20:33</td>\n",
              "      <td>Ewallet</td>\n",
              "      <td>465.76</td>\n",
              "      <td>4.761905</td>\n",
              "      <td>23.2880</td>\n",
              "      <td>8.4</td>\n",
              "    </tr>\n",
              "    <tr>\n",
              "      <th>4</th>\n",
              "      <td>373-73-7910</td>\n",
              "      <td>A</td>\n",
              "      <td>Yangon</td>\n",
              "      <td>Normal</td>\n",
              "      <td>Male</td>\n",
              "      <td>Sports and travel</td>\n",
              "      <td>86.31</td>\n",
              "      <td>7</td>\n",
              "      <td>30.2085</td>\n",
              "      <td>634.3785</td>\n",
              "      <td>2/8/2019</td>\n",
              "      <td>10:37</td>\n",
              "      <td>Ewallet</td>\n",
              "      <td>604.17</td>\n",
              "      <td>4.761905</td>\n",
              "      <td>30.2085</td>\n",
              "      <td>5.3</td>\n",
              "    </tr>\n",
              "  </tbody>\n",
              "</table>\n",
              "</div>"
            ],
            "text/plain": [
              "    Invoice ID Branch       City Customer type  Gender  \\\n",
              "0  750-67-8428      A     Yangon        Member  Female   \n",
              "1  226-31-3081      C  Naypyitaw        Normal  Female   \n",
              "2  631-41-3108      A     Yangon        Normal    Male   \n",
              "3  123-19-1176      A     Yangon        Member    Male   \n",
              "4  373-73-7910      A     Yangon        Normal    Male   \n",
              "\n",
              "             Product line  Unit price  Quantity   Tax 5%     Total       Date  \\\n",
              "0       Health and beauty       74.69         7  26.1415  548.9715   1/5/2019   \n",
              "1  Electronic accessories       15.28         5   3.8200   80.2200   3/8/2019   \n",
              "2      Home and lifestyle       46.33         7  16.2155  340.5255   3/3/2019   \n",
              "3       Health and beauty       58.22         8  23.2880  489.0480  1/27/2019   \n",
              "4       Sports and travel       86.31         7  30.2085  634.3785   2/8/2019   \n",
              "\n",
              "    Time      Payment    cogs  gross margin percentage  gross income  Rating  \n",
              "0  13:08      Ewallet  522.83                 4.761905       26.1415     9.1  \n",
              "1  10:29         Cash   76.40                 4.761905        3.8200     9.6  \n",
              "2  13:23  Credit card  324.31                 4.761905       16.2155     7.4  \n",
              "3  20:33      Ewallet  465.76                 4.761905       23.2880     8.4  \n",
              "4  10:37      Ewallet  604.17                 4.761905       30.2085     5.3  "
            ]
          },
          "execution_count": 93,
          "metadata": {},
          "output_type": "execute_result"
        }
      ],
      "source": [
        "ds = df.copy()\n",
        "ds.head()"
      ]
    },
    {
      "cell_type": "markdown",
      "metadata": {
        "id": "AG3cR2YiN9bq"
      },
      "source": [
        "## **Convert categorical data to numberical one**"
      ]
    },
    {
      "cell_type": "code",
      "execution_count": null,
      "metadata": {
        "id": "5ioi37T0N9Nb"
      },
      "outputs": [],
      "source": [
        "#encoder = OrdinalEncoder()\n",
        "# transform data\n",
        "#result = encoder.fit_transform(ds)\n",
        "#print(result)"
      ]
    },
    {
      "cell_type": "code",
      "execution_count": null,
      "metadata": {
        "id": "FcSDiPOONj7q"
      },
      "outputs": [],
      "source": [
        "ds['Branch'].replace(['A', 'B', 'C'],[0,1,2],inplace=True)\n",
        "ds['Gender'].replace(['Female', 'Male'],[0, 1], inplace=True)\n",
        "ds['City'].replace(['Yangon', 'Naypyitaw', 'Mandalay'],[0, 1, 2], inplace=True)\n",
        "ds['Customer type'].replace(['Member', 'Normal'],[0, 1], inplace=True)\n",
        "ds['Payment'].replace(['Ewallet', 'Cash', 'Credit card'],[0, 1, 2], inplace=True)\n",
        "ds['Product line'].replace(['Health and beauty', 'Electronic accessories', 'Home and lifestyle', 'Sports and travel', 'Food and beverages', 'Fashion accessories'],[0, 1, 2, 3, 4, 5], inplace=True)"
      ]
    },
    {
      "cell_type": "code",
      "execution_count": null,
      "metadata": {
        "colab": {
          "base_uri": "https://localhost:8080/",
          "height": 354
        },
        "id": "eevZNtOgNj5S",
        "outputId": "82fe9515-9bbf-44bf-afc9-ecbd5614ad74"
      },
      "outputs": [
        {
          "data": {
            "text/html": [
              "<div>\n",
              "<style scoped>\n",
              "    .dataframe tbody tr th:only-of-type {\n",
              "        vertical-align: middle;\n",
              "    }\n",
              "\n",
              "    .dataframe tbody tr th {\n",
              "        vertical-align: top;\n",
              "    }\n",
              "\n",
              "    .dataframe thead th {\n",
              "        text-align: right;\n",
              "    }\n",
              "</style>\n",
              "<table border=\"1\" class=\"dataframe\">\n",
              "  <thead>\n",
              "    <tr style=\"text-align: right;\">\n",
              "      <th></th>\n",
              "      <th>Invoice ID</th>\n",
              "      <th>Branch</th>\n",
              "      <th>City</th>\n",
              "      <th>Customer type</th>\n",
              "      <th>Gender</th>\n",
              "      <th>Product line</th>\n",
              "      <th>Unit price</th>\n",
              "      <th>Quantity</th>\n",
              "      <th>Tax 5%</th>\n",
              "      <th>Total</th>\n",
              "      <th>Date</th>\n",
              "      <th>Time</th>\n",
              "      <th>Payment</th>\n",
              "      <th>cogs</th>\n",
              "      <th>gross margin percentage</th>\n",
              "      <th>gross income</th>\n",
              "      <th>Rating</th>\n",
              "    </tr>\n",
              "  </thead>\n",
              "  <tbody>\n",
              "    <tr>\n",
              "      <th>0</th>\n",
              "      <td>750-67-8428</td>\n",
              "      <td>0</td>\n",
              "      <td>0</td>\n",
              "      <td>0</td>\n",
              "      <td>0</td>\n",
              "      <td>0</td>\n",
              "      <td>74.69</td>\n",
              "      <td>7</td>\n",
              "      <td>26.1415</td>\n",
              "      <td>548.9715</td>\n",
              "      <td>1/5/2019</td>\n",
              "      <td>13:08</td>\n",
              "      <td>0</td>\n",
              "      <td>522.83</td>\n",
              "      <td>4.761905</td>\n",
              "      <td>26.1415</td>\n",
              "      <td>9.1</td>\n",
              "    </tr>\n",
              "    <tr>\n",
              "      <th>1</th>\n",
              "      <td>226-31-3081</td>\n",
              "      <td>2</td>\n",
              "      <td>1</td>\n",
              "      <td>1</td>\n",
              "      <td>0</td>\n",
              "      <td>1</td>\n",
              "      <td>15.28</td>\n",
              "      <td>5</td>\n",
              "      <td>3.8200</td>\n",
              "      <td>80.2200</td>\n",
              "      <td>3/8/2019</td>\n",
              "      <td>10:29</td>\n",
              "      <td>1</td>\n",
              "      <td>76.40</td>\n",
              "      <td>4.761905</td>\n",
              "      <td>3.8200</td>\n",
              "      <td>9.6</td>\n",
              "    </tr>\n",
              "    <tr>\n",
              "      <th>2</th>\n",
              "      <td>631-41-3108</td>\n",
              "      <td>0</td>\n",
              "      <td>0</td>\n",
              "      <td>1</td>\n",
              "      <td>1</td>\n",
              "      <td>2</td>\n",
              "      <td>46.33</td>\n",
              "      <td>7</td>\n",
              "      <td>16.2155</td>\n",
              "      <td>340.5255</td>\n",
              "      <td>3/3/2019</td>\n",
              "      <td>13:23</td>\n",
              "      <td>2</td>\n",
              "      <td>324.31</td>\n",
              "      <td>4.761905</td>\n",
              "      <td>16.2155</td>\n",
              "      <td>7.4</td>\n",
              "    </tr>\n",
              "    <tr>\n",
              "      <th>3</th>\n",
              "      <td>123-19-1176</td>\n",
              "      <td>0</td>\n",
              "      <td>0</td>\n",
              "      <td>0</td>\n",
              "      <td>1</td>\n",
              "      <td>0</td>\n",
              "      <td>58.22</td>\n",
              "      <td>8</td>\n",
              "      <td>23.2880</td>\n",
              "      <td>489.0480</td>\n",
              "      <td>1/27/2019</td>\n",
              "      <td>20:33</td>\n",
              "      <td>0</td>\n",
              "      <td>465.76</td>\n",
              "      <td>4.761905</td>\n",
              "      <td>23.2880</td>\n",
              "      <td>8.4</td>\n",
              "    </tr>\n",
              "    <tr>\n",
              "      <th>4</th>\n",
              "      <td>373-73-7910</td>\n",
              "      <td>0</td>\n",
              "      <td>0</td>\n",
              "      <td>1</td>\n",
              "      <td>1</td>\n",
              "      <td>3</td>\n",
              "      <td>86.31</td>\n",
              "      <td>7</td>\n",
              "      <td>30.2085</td>\n",
              "      <td>634.3785</td>\n",
              "      <td>2/8/2019</td>\n",
              "      <td>10:37</td>\n",
              "      <td>0</td>\n",
              "      <td>604.17</td>\n",
              "      <td>4.761905</td>\n",
              "      <td>30.2085</td>\n",
              "      <td>5.3</td>\n",
              "    </tr>\n",
              "  </tbody>\n",
              "</table>\n",
              "</div>"
            ],
            "text/plain": [
              "    Invoice ID  Branch  City  Customer type  Gender  Product line  Unit price  \\\n",
              "0  750-67-8428       0     0              0       0             0       74.69   \n",
              "1  226-31-3081       2     1              1       0             1       15.28   \n",
              "2  631-41-3108       0     0              1       1             2       46.33   \n",
              "3  123-19-1176       0     0              0       1             0       58.22   \n",
              "4  373-73-7910       0     0              1       1             3       86.31   \n",
              "\n",
              "   Quantity   Tax 5%     Total       Date   Time  Payment    cogs  \\\n",
              "0         7  26.1415  548.9715   1/5/2019  13:08        0  522.83   \n",
              "1         5   3.8200   80.2200   3/8/2019  10:29        1   76.40   \n",
              "2         7  16.2155  340.5255   3/3/2019  13:23        2  324.31   \n",
              "3         8  23.2880  489.0480  1/27/2019  20:33        0  465.76   \n",
              "4         7  30.2085  634.3785   2/8/2019  10:37        0  604.17   \n",
              "\n",
              "   gross margin percentage  gross income  Rating  \n",
              "0                 4.761905       26.1415     9.1  \n",
              "1                 4.761905        3.8200     9.6  \n",
              "2                 4.761905       16.2155     7.4  \n",
              "3                 4.761905       23.2880     8.4  \n",
              "4                 4.761905       30.2085     5.3  "
            ]
          },
          "execution_count": 154,
          "metadata": {},
          "output_type": "execute_result"
        }
      ],
      "source": [
        "ds.head()"
      ]
    },
    {
      "cell_type": "code",
      "execution_count": null,
      "metadata": {
        "id": "lWFnRCauN2_S"
      },
      "outputs": [],
      "source": []
    },
    {
      "cell_type": "code",
      "execution_count": null,
      "metadata": {
        "colab": {
          "base_uri": "https://localhost:8080/",
          "height": 206
        },
        "id": "kFklO3wNHI4q",
        "outputId": "e0943e2f-6511-4e9c-df32-d1a3904ce017"
      },
      "outputs": [
        {
          "data": {
            "text/html": [
              "<div>\n",
              "<style scoped>\n",
              "    .dataframe tbody tr th:only-of-type {\n",
              "        vertical-align: middle;\n",
              "    }\n",
              "\n",
              "    .dataframe tbody tr th {\n",
              "        vertical-align: top;\n",
              "    }\n",
              "\n",
              "    .dataframe thead th {\n",
              "        text-align: right;\n",
              "    }\n",
              "</style>\n",
              "<table border=\"1\" class=\"dataframe\">\n",
              "  <thead>\n",
              "    <tr style=\"text-align: right;\">\n",
              "      <th></th>\n",
              "      <th>Branch</th>\n",
              "      <th>City</th>\n",
              "      <th>Customer type</th>\n",
              "      <th>Gender</th>\n",
              "      <th>Product line</th>\n",
              "      <th>Unit price</th>\n",
              "      <th>Quantity</th>\n",
              "      <th>Tax 5%</th>\n",
              "      <th>Total</th>\n",
              "      <th>Payment</th>\n",
              "      <th>cogs</th>\n",
              "      <th>gross margin percentage</th>\n",
              "      <th>gross income</th>\n",
              "      <th>Rating</th>\n",
              "    </tr>\n",
              "  </thead>\n",
              "  <tbody>\n",
              "    <tr>\n",
              "      <th>0</th>\n",
              "      <td>0</td>\n",
              "      <td>0</td>\n",
              "      <td>0</td>\n",
              "      <td>0</td>\n",
              "      <td>0</td>\n",
              "      <td>74.69</td>\n",
              "      <td>7</td>\n",
              "      <td>26.1415</td>\n",
              "      <td>548.9715</td>\n",
              "      <td>0</td>\n",
              "      <td>522.83</td>\n",
              "      <td>4.761905</td>\n",
              "      <td>26.1415</td>\n",
              "      <td>9.1</td>\n",
              "    </tr>\n",
              "    <tr>\n",
              "      <th>1</th>\n",
              "      <td>2</td>\n",
              "      <td>1</td>\n",
              "      <td>1</td>\n",
              "      <td>0</td>\n",
              "      <td>1</td>\n",
              "      <td>15.28</td>\n",
              "      <td>5</td>\n",
              "      <td>3.8200</td>\n",
              "      <td>80.2200</td>\n",
              "      <td>1</td>\n",
              "      <td>76.40</td>\n",
              "      <td>4.761905</td>\n",
              "      <td>3.8200</td>\n",
              "      <td>9.6</td>\n",
              "    </tr>\n",
              "    <tr>\n",
              "      <th>2</th>\n",
              "      <td>0</td>\n",
              "      <td>0</td>\n",
              "      <td>1</td>\n",
              "      <td>1</td>\n",
              "      <td>2</td>\n",
              "      <td>46.33</td>\n",
              "      <td>7</td>\n",
              "      <td>16.2155</td>\n",
              "      <td>340.5255</td>\n",
              "      <td>2</td>\n",
              "      <td>324.31</td>\n",
              "      <td>4.761905</td>\n",
              "      <td>16.2155</td>\n",
              "      <td>7.4</td>\n",
              "    </tr>\n",
              "    <tr>\n",
              "      <th>3</th>\n",
              "      <td>0</td>\n",
              "      <td>0</td>\n",
              "      <td>0</td>\n",
              "      <td>1</td>\n",
              "      <td>0</td>\n",
              "      <td>58.22</td>\n",
              "      <td>8</td>\n",
              "      <td>23.2880</td>\n",
              "      <td>489.0480</td>\n",
              "      <td>0</td>\n",
              "      <td>465.76</td>\n",
              "      <td>4.761905</td>\n",
              "      <td>23.2880</td>\n",
              "      <td>8.4</td>\n",
              "    </tr>\n",
              "    <tr>\n",
              "      <th>4</th>\n",
              "      <td>0</td>\n",
              "      <td>0</td>\n",
              "      <td>1</td>\n",
              "      <td>1</td>\n",
              "      <td>3</td>\n",
              "      <td>86.31</td>\n",
              "      <td>7</td>\n",
              "      <td>30.2085</td>\n",
              "      <td>634.3785</td>\n",
              "      <td>0</td>\n",
              "      <td>604.17</td>\n",
              "      <td>4.761905</td>\n",
              "      <td>30.2085</td>\n",
              "      <td>5.3</td>\n",
              "    </tr>\n",
              "  </tbody>\n",
              "</table>\n",
              "</div>"
            ],
            "text/plain": [
              "   Branch  City  Customer type  Gender  Product line  Unit price  Quantity  \\\n",
              "0       0     0              0       0             0       74.69         7   \n",
              "1       2     1              1       0             1       15.28         5   \n",
              "2       0     0              1       1             2       46.33         7   \n",
              "3       0     0              0       1             0       58.22         8   \n",
              "4       0     0              1       1             3       86.31         7   \n",
              "\n",
              "    Tax 5%     Total  Payment    cogs  gross margin percentage  gross income  \\\n",
              "0  26.1415  548.9715        0  522.83                 4.761905       26.1415   \n",
              "1   3.8200   80.2200        1   76.40                 4.761905        3.8200   \n",
              "2  16.2155  340.5255        2  324.31                 4.761905       16.2155   \n",
              "3  23.2880  489.0480        0  465.76                 4.761905       23.2880   \n",
              "4  30.2085  634.3785        0  604.17                 4.761905       30.2085   \n",
              "\n",
              "   Rating  \n",
              "0     9.1  \n",
              "1     9.6  \n",
              "2     7.4  \n",
              "3     8.4  \n",
              "4     5.3  "
            ]
          },
          "execution_count": 155,
          "metadata": {},
          "output_type": "execute_result"
        }
      ],
      "source": [
        "# get the numerical data alone\n",
        "# just double checking to take only numerical data\n",
        "dn = ds._get_numeric_data()\n",
        "dn.head()"
      ]
    },
    {
      "cell_type": "code",
      "execution_count": null,
      "metadata": {
        "colab": {
          "base_uri": "https://localhost:8080/"
        },
        "id": "HhnTHlRrH9m0",
        "outputId": "bc7bafd1-cf3c-4454-f03b-e1ffc73aaadb"
      },
      "outputs": [
        {
          "name": "stdout",
          "output_type": "stream",
          "text": [
            "[[0.         0.         0.         ... 0.         0.52161615 0.85      ]\n",
            " [1.         0.5        1.         ... 0.         0.06738704 0.93333333]\n",
            " [0.         0.         1.         ... 0.         0.31962801 0.56666667]\n",
            " ...\n",
            " [0.         0.         0.         ... 0.         0.02204857 0.61666667]\n",
            " [0.         0.         1.         ... 0.         0.0566222  0.01666667]\n",
            " [0.         0.         0.         ... 0.         0.6188354  0.43333333]]\n"
          ]
        }
      ],
      "source": [
        "scaler = MinMaxScaler()\n",
        "# transform data\n",
        "scaled = scaler.fit_transform(dn)\n",
        "print(scaled)"
      ]
    },
    {
      "cell_type": "code",
      "execution_count": null,
      "metadata": {
        "colab": {
          "base_uri": "https://localhost:8080/",
          "height": 206
        },
        "id": "ncudY1wZIAim",
        "outputId": "f282aedb-74b1-4b1b-e165-209d4da61408"
      },
      "outputs": [
        {
          "data": {
            "text/html": [
              "<div>\n",
              "<style scoped>\n",
              "    .dataframe tbody tr th:only-of-type {\n",
              "        vertical-align: middle;\n",
              "    }\n",
              "\n",
              "    .dataframe tbody tr th {\n",
              "        vertical-align: top;\n",
              "    }\n",
              "\n",
              "    .dataframe thead th {\n",
              "        text-align: right;\n",
              "    }\n",
              "</style>\n",
              "<table border=\"1\" class=\"dataframe\">\n",
              "  <thead>\n",
              "    <tr style=\"text-align: right;\">\n",
              "      <th></th>\n",
              "      <th>Branch</th>\n",
              "      <th>City</th>\n",
              "      <th>Customer type</th>\n",
              "      <th>Gender</th>\n",
              "      <th>Product line</th>\n",
              "      <th>Unit price</th>\n",
              "      <th>Quantity</th>\n",
              "      <th>Tax 5%</th>\n",
              "      <th>Total</th>\n",
              "      <th>Payment</th>\n",
              "      <th>cogs</th>\n",
              "      <th>gross margin percentage</th>\n",
              "      <th>gross income</th>\n",
              "      <th>Rating</th>\n",
              "    </tr>\n",
              "  </thead>\n",
              "  <tbody>\n",
              "    <tr>\n",
              "      <th>0</th>\n",
              "      <td>0</td>\n",
              "      <td>0</td>\n",
              "      <td>0</td>\n",
              "      <td>0</td>\n",
              "      <td>0</td>\n",
              "      <td>74.69</td>\n",
              "      <td>7</td>\n",
              "      <td>26.1415</td>\n",
              "      <td>548.9715</td>\n",
              "      <td>0</td>\n",
              "      <td>522.83</td>\n",
              "      <td>4.761905</td>\n",
              "      <td>26.1415</td>\n",
              "      <td>9.1</td>\n",
              "    </tr>\n",
              "    <tr>\n",
              "      <th>1</th>\n",
              "      <td>2</td>\n",
              "      <td>1</td>\n",
              "      <td>1</td>\n",
              "      <td>0</td>\n",
              "      <td>1</td>\n",
              "      <td>15.28</td>\n",
              "      <td>5</td>\n",
              "      <td>3.8200</td>\n",
              "      <td>80.2200</td>\n",
              "      <td>1</td>\n",
              "      <td>76.40</td>\n",
              "      <td>4.761905</td>\n",
              "      <td>3.8200</td>\n",
              "      <td>9.6</td>\n",
              "    </tr>\n",
              "    <tr>\n",
              "      <th>2</th>\n",
              "      <td>0</td>\n",
              "      <td>0</td>\n",
              "      <td>1</td>\n",
              "      <td>1</td>\n",
              "      <td>2</td>\n",
              "      <td>46.33</td>\n",
              "      <td>7</td>\n",
              "      <td>16.2155</td>\n",
              "      <td>340.5255</td>\n",
              "      <td>2</td>\n",
              "      <td>324.31</td>\n",
              "      <td>4.761905</td>\n",
              "      <td>16.2155</td>\n",
              "      <td>7.4</td>\n",
              "    </tr>\n",
              "    <tr>\n",
              "      <th>3</th>\n",
              "      <td>0</td>\n",
              "      <td>0</td>\n",
              "      <td>0</td>\n",
              "      <td>1</td>\n",
              "      <td>0</td>\n",
              "      <td>58.22</td>\n",
              "      <td>8</td>\n",
              "      <td>23.2880</td>\n",
              "      <td>489.0480</td>\n",
              "      <td>0</td>\n",
              "      <td>465.76</td>\n",
              "      <td>4.761905</td>\n",
              "      <td>23.2880</td>\n",
              "      <td>8.4</td>\n",
              "    </tr>\n",
              "    <tr>\n",
              "      <th>4</th>\n",
              "      <td>0</td>\n",
              "      <td>0</td>\n",
              "      <td>1</td>\n",
              "      <td>1</td>\n",
              "      <td>3</td>\n",
              "      <td>86.31</td>\n",
              "      <td>7</td>\n",
              "      <td>30.2085</td>\n",
              "      <td>634.3785</td>\n",
              "      <td>0</td>\n",
              "      <td>604.17</td>\n",
              "      <td>4.761905</td>\n",
              "      <td>30.2085</td>\n",
              "      <td>5.3</td>\n",
              "    </tr>\n",
              "  </tbody>\n",
              "</table>\n",
              "</div>"
            ],
            "text/plain": [
              "   Branch  City  Customer type  Gender  Product line  Unit price  Quantity  \\\n",
              "0       0     0              0       0             0       74.69         7   \n",
              "1       2     1              1       0             1       15.28         5   \n",
              "2       0     0              1       1             2       46.33         7   \n",
              "3       0     0              0       1             0       58.22         8   \n",
              "4       0     0              1       1             3       86.31         7   \n",
              "\n",
              "    Tax 5%     Total  Payment    cogs  gross margin percentage  gross income  \\\n",
              "0  26.1415  548.9715        0  522.83                 4.761905       26.1415   \n",
              "1   3.8200   80.2200        1   76.40                 4.761905        3.8200   \n",
              "2  16.2155  340.5255        2  324.31                 4.761905       16.2155   \n",
              "3  23.2880  489.0480        0  465.76                 4.761905       23.2880   \n",
              "4  30.2085  634.3785        0  604.17                 4.761905       30.2085   \n",
              "\n",
              "   Rating  \n",
              "0     9.1  \n",
              "1     9.6  \n",
              "2     7.4  \n",
              "3     8.4  \n",
              "4     5.3  "
            ]
          },
          "execution_count": 157,
          "metadata": {},
          "output_type": "execute_result"
        }
      ],
      "source": [
        "dn.head()"
      ]
    },
    {
      "cell_type": "code",
      "execution_count": null,
      "metadata": {
        "colab": {
          "base_uri": "https://localhost:8080/",
          "height": 206
        },
        "id": "swhzPAbyO4hG",
        "outputId": "b445aa8a-868a-4410-fb66-d3c8d7e49b2d"
      },
      "outputs": [
        {
          "data": {
            "text/html": [
              "<div>\n",
              "<style scoped>\n",
              "    .dataframe tbody tr th:only-of-type {\n",
              "        vertical-align: middle;\n",
              "    }\n",
              "\n",
              "    .dataframe tbody tr th {\n",
              "        vertical-align: top;\n",
              "    }\n",
              "\n",
              "    .dataframe thead th {\n",
              "        text-align: right;\n",
              "    }\n",
              "</style>\n",
              "<table border=\"1\" class=\"dataframe\">\n",
              "  <thead>\n",
              "    <tr style=\"text-align: right;\">\n",
              "      <th></th>\n",
              "      <th>Branch</th>\n",
              "      <th>City</th>\n",
              "      <th>Customer type</th>\n",
              "      <th>Gender</th>\n",
              "      <th>Product line</th>\n",
              "      <th>Unit price</th>\n",
              "      <th>Quantity</th>\n",
              "      <th>Tax 5%</th>\n",
              "      <th>Total</th>\n",
              "      <th>Payment</th>\n",
              "      <th>cogs</th>\n",
              "      <th>gross margin percentage</th>\n",
              "      <th>gross income</th>\n",
              "      <th>Rating</th>\n",
              "    </tr>\n",
              "  </thead>\n",
              "  <tbody>\n",
              "    <tr>\n",
              "      <th>0</th>\n",
              "      <td>0</td>\n",
              "      <td>0</td>\n",
              "      <td>0</td>\n",
              "      <td>0</td>\n",
              "      <td>0</td>\n",
              "      <td>74.69</td>\n",
              "      <td>7</td>\n",
              "      <td>26.1415</td>\n",
              "      <td>548.9715</td>\n",
              "      <td>0</td>\n",
              "      <td>522.83</td>\n",
              "      <td>4.761905</td>\n",
              "      <td>26.1415</td>\n",
              "      <td>9.1</td>\n",
              "    </tr>\n",
              "    <tr>\n",
              "      <th>1</th>\n",
              "      <td>2</td>\n",
              "      <td>1</td>\n",
              "      <td>1</td>\n",
              "      <td>0</td>\n",
              "      <td>1</td>\n",
              "      <td>15.28</td>\n",
              "      <td>5</td>\n",
              "      <td>3.8200</td>\n",
              "      <td>80.2200</td>\n",
              "      <td>1</td>\n",
              "      <td>76.40</td>\n",
              "      <td>4.761905</td>\n",
              "      <td>3.8200</td>\n",
              "      <td>9.6</td>\n",
              "    </tr>\n",
              "    <tr>\n",
              "      <th>2</th>\n",
              "      <td>0</td>\n",
              "      <td>0</td>\n",
              "      <td>1</td>\n",
              "      <td>1</td>\n",
              "      <td>2</td>\n",
              "      <td>46.33</td>\n",
              "      <td>7</td>\n",
              "      <td>16.2155</td>\n",
              "      <td>340.5255</td>\n",
              "      <td>2</td>\n",
              "      <td>324.31</td>\n",
              "      <td>4.761905</td>\n",
              "      <td>16.2155</td>\n",
              "      <td>7.4</td>\n",
              "    </tr>\n",
              "    <tr>\n",
              "      <th>3</th>\n",
              "      <td>0</td>\n",
              "      <td>0</td>\n",
              "      <td>0</td>\n",
              "      <td>1</td>\n",
              "      <td>0</td>\n",
              "      <td>58.22</td>\n",
              "      <td>8</td>\n",
              "      <td>23.2880</td>\n",
              "      <td>489.0480</td>\n",
              "      <td>0</td>\n",
              "      <td>465.76</td>\n",
              "      <td>4.761905</td>\n",
              "      <td>23.2880</td>\n",
              "      <td>8.4</td>\n",
              "    </tr>\n",
              "    <tr>\n",
              "      <th>4</th>\n",
              "      <td>0</td>\n",
              "      <td>0</td>\n",
              "      <td>1</td>\n",
              "      <td>1</td>\n",
              "      <td>3</td>\n",
              "      <td>86.31</td>\n",
              "      <td>7</td>\n",
              "      <td>30.2085</td>\n",
              "      <td>634.3785</td>\n",
              "      <td>0</td>\n",
              "      <td>604.17</td>\n",
              "      <td>4.761905</td>\n",
              "      <td>30.2085</td>\n",
              "      <td>5.3</td>\n",
              "    </tr>\n",
              "  </tbody>\n",
              "</table>\n",
              "</div>"
            ],
            "text/plain": [
              "   Branch  City  Customer type  Gender  Product line  Unit price  Quantity  \\\n",
              "0       0     0              0       0             0       74.69         7   \n",
              "1       2     1              1       0             1       15.28         5   \n",
              "2       0     0              1       1             2       46.33         7   \n",
              "3       0     0              0       1             0       58.22         8   \n",
              "4       0     0              1       1             3       86.31         7   \n",
              "\n",
              "    Tax 5%     Total  Payment    cogs  gross margin percentage  gross income  \\\n",
              "0  26.1415  548.9715        0  522.83                 4.761905       26.1415   \n",
              "1   3.8200   80.2200        1   76.40                 4.761905        3.8200   \n",
              "2  16.2155  340.5255        2  324.31                 4.761905       16.2155   \n",
              "3  23.2880  489.0480        0  465.76                 4.761905       23.2880   \n",
              "4  30.2085  634.3785        0  604.17                 4.761905       30.2085   \n",
              "\n",
              "   Rating  \n",
              "0     9.1  \n",
              "1     9.6  \n",
              "2     7.4  \n",
              "3     8.4  \n",
              "4     5.3  "
            ]
          },
          "execution_count": 158,
          "metadata": {},
          "output_type": "execute_result"
        }
      ],
      "source": [
        "dn.drop(['gross margin percentage'], axis=1)\n",
        "dn.head()"
      ]
    },
    {
      "cell_type": "code",
      "execution_count": null,
      "metadata": {
        "colab": {
          "base_uri": "https://localhost:8080/"
        },
        "id": "hU_OlG_dIKFe",
        "outputId": "201b25ee-4b38-433a-97b9-5d9ca41c8127"
      },
      "outputs": [
        {
          "name": "stdout",
          "output_type": "stream",
          "text": [
            "10.08\n",
            "99.96\n"
          ]
        }
      ],
      "source": [
        "print(dn['Unit price'].min())\n",
        "print(dn['Unit price'].max())"
      ]
    },
    {
      "cell_type": "markdown",
      "metadata": {
        "id": "LgmRNikcLe4p"
      },
      "source": [
        "Min max scaler"
      ]
    },
    {
      "cell_type": "code",
      "execution_count": null,
      "metadata": {
        "colab": {
          "base_uri": "https://localhost:8080/",
          "height": 250
        },
        "id": "qwxuJR8wIg4v",
        "outputId": "0a51aec3-61f5-4881-b5d3-d37ef3e47f2f"
      },
      "outputs": [
        {
          "data": {
            "text/html": [
              "<div>\n",
              "<style scoped>\n",
              "    .dataframe tbody tr th:only-of-type {\n",
              "        vertical-align: middle;\n",
              "    }\n",
              "\n",
              "    .dataframe tbody tr th {\n",
              "        vertical-align: top;\n",
              "    }\n",
              "\n",
              "    .dataframe thead th {\n",
              "        text-align: right;\n",
              "    }\n",
              "</style>\n",
              "<table border=\"1\" class=\"dataframe\">\n",
              "  <thead>\n",
              "    <tr style=\"text-align: right;\">\n",
              "      <th></th>\n",
              "      <th>Branch</th>\n",
              "      <th>City</th>\n",
              "      <th>Customer type</th>\n",
              "      <th>Gender</th>\n",
              "      <th>Product line</th>\n",
              "      <th>Unit price</th>\n",
              "      <th>Quantity</th>\n",
              "      <th>Tax 5%</th>\n",
              "      <th>Total</th>\n",
              "      <th>Payment</th>\n",
              "      <th>cogs</th>\n",
              "      <th>gross margin percentage</th>\n",
              "      <th>gross income</th>\n",
              "      <th>Rating</th>\n",
              "    </tr>\n",
              "  </thead>\n",
              "  <tbody>\n",
              "    <tr>\n",
              "      <th>0</th>\n",
              "      <td>0.0</td>\n",
              "      <td>0.0</td>\n",
              "      <td>0.0</td>\n",
              "      <td>0.0</td>\n",
              "      <td>0.0</td>\n",
              "      <td>0.718847</td>\n",
              "      <td>0.666667</td>\n",
              "      <td>0.521616</td>\n",
              "      <td>0.521616</td>\n",
              "      <td>0.0</td>\n",
              "      <td>0.521616</td>\n",
              "      <td>0.0</td>\n",
              "      <td>0.521616</td>\n",
              "      <td>0.850000</td>\n",
              "    </tr>\n",
              "    <tr>\n",
              "      <th>1</th>\n",
              "      <td>1.0</td>\n",
              "      <td>0.5</td>\n",
              "      <td>1.0</td>\n",
              "      <td>0.0</td>\n",
              "      <td>0.2</td>\n",
              "      <td>0.057855</td>\n",
              "      <td>0.444444</td>\n",
              "      <td>0.067387</td>\n",
              "      <td>0.067387</td>\n",
              "      <td>0.5</td>\n",
              "      <td>0.067387</td>\n",
              "      <td>0.0</td>\n",
              "      <td>0.067387</td>\n",
              "      <td>0.933333</td>\n",
              "    </tr>\n",
              "    <tr>\n",
              "      <th>2</th>\n",
              "      <td>0.0</td>\n",
              "      <td>0.0</td>\n",
              "      <td>1.0</td>\n",
              "      <td>1.0</td>\n",
              "      <td>0.4</td>\n",
              "      <td>0.403316</td>\n",
              "      <td>0.666667</td>\n",
              "      <td>0.319628</td>\n",
              "      <td>0.319628</td>\n",
              "      <td>1.0</td>\n",
              "      <td>0.319628</td>\n",
              "      <td>0.0</td>\n",
              "      <td>0.319628</td>\n",
              "      <td>0.566667</td>\n",
              "    </tr>\n",
              "    <tr>\n",
              "      <th>3</th>\n",
              "      <td>0.0</td>\n",
              "      <td>0.0</td>\n",
              "      <td>0.0</td>\n",
              "      <td>1.0</td>\n",
              "      <td>0.0</td>\n",
              "      <td>0.535603</td>\n",
              "      <td>0.777778</td>\n",
              "      <td>0.463549</td>\n",
              "      <td>0.463549</td>\n",
              "      <td>0.0</td>\n",
              "      <td>0.463549</td>\n",
              "      <td>0.0</td>\n",
              "      <td>0.463549</td>\n",
              "      <td>0.733333</td>\n",
              "    </tr>\n",
              "    <tr>\n",
              "      <th>4</th>\n",
              "      <td>0.0</td>\n",
              "      <td>0.0</td>\n",
              "      <td>1.0</td>\n",
              "      <td>1.0</td>\n",
              "      <td>0.6</td>\n",
              "      <td>0.848131</td>\n",
              "      <td>0.666667</td>\n",
              "      <td>0.604377</td>\n",
              "      <td>0.604377</td>\n",
              "      <td>0.0</td>\n",
              "      <td>0.604377</td>\n",
              "      <td>0.0</td>\n",
              "      <td>0.604377</td>\n",
              "      <td>0.216667</td>\n",
              "    </tr>\n",
              "  </tbody>\n",
              "</table>\n",
              "</div>"
            ],
            "text/plain": [
              "   Branch  City  Customer type  Gender  Product line  Unit price  Quantity  \\\n",
              "0     0.0   0.0            0.0     0.0           0.0    0.718847  0.666667   \n",
              "1     1.0   0.5            1.0     0.0           0.2    0.057855  0.444444   \n",
              "2     0.0   0.0            1.0     1.0           0.4    0.403316  0.666667   \n",
              "3     0.0   0.0            0.0     1.0           0.0    0.535603  0.777778   \n",
              "4     0.0   0.0            1.0     1.0           0.6    0.848131  0.666667   \n",
              "\n",
              "     Tax 5%     Total  Payment      cogs  gross margin percentage  \\\n",
              "0  0.521616  0.521616      0.0  0.521616                      0.0   \n",
              "1  0.067387  0.067387      0.5  0.067387                      0.0   \n",
              "2  0.319628  0.319628      1.0  0.319628                      0.0   \n",
              "3  0.463549  0.463549      0.0  0.463549                      0.0   \n",
              "4  0.604377  0.604377      0.0  0.604377                      0.0   \n",
              "\n",
              "   gross income    Rating  \n",
              "0      0.521616  0.850000  \n",
              "1      0.067387  0.933333  \n",
              "2      0.319628  0.566667  \n",
              "3      0.463549  0.733333  \n",
              "4      0.604377  0.216667  "
            ]
          },
          "execution_count": 160,
          "metadata": {},
          "output_type": "execute_result"
        }
      ],
      "source": [
        "# min max scaler\n",
        "X_copy = dn.copy() \n",
        "scaler = MinMaxScaler()\n",
        "X_columns = dn.columns\n",
        "trans_formed_min_max = pd.DataFrame(scaler.fit_transform(X_copy), columns=X_columns)\n",
        "trans_formed_min_max.head()"
      ]
    },
    {
      "cell_type": "markdown",
      "metadata": {
        "id": "nmime83xLb-C"
      },
      "source": [
        "Standard scaler"
      ]
    },
    {
      "cell_type": "code",
      "execution_count": null,
      "metadata": {
        "colab": {
          "base_uri": "https://localhost:8080/",
          "height": 250
        },
        "id": "gitwjefUKT-c",
        "outputId": "47dcf1ec-03d9-4841-eca7-c5f3aaa10ec1"
      },
      "outputs": [
        {
          "data": {
            "text/html": [
              "<div>\n",
              "<style scoped>\n",
              "    .dataframe tbody tr th:only-of-type {\n",
              "        vertical-align: middle;\n",
              "    }\n",
              "\n",
              "    .dataframe tbody tr th {\n",
              "        vertical-align: top;\n",
              "    }\n",
              "\n",
              "    .dataframe thead th {\n",
              "        text-align: right;\n",
              "    }\n",
              "</style>\n",
              "<table border=\"1\" class=\"dataframe\">\n",
              "  <thead>\n",
              "    <tr style=\"text-align: right;\">\n",
              "      <th></th>\n",
              "      <th>Branch</th>\n",
              "      <th>City</th>\n",
              "      <th>Customer type</th>\n",
              "      <th>Gender</th>\n",
              "      <th>Product line</th>\n",
              "      <th>Unit price</th>\n",
              "      <th>Quantity</th>\n",
              "      <th>Tax 5%</th>\n",
              "      <th>Total</th>\n",
              "      <th>Payment</th>\n",
              "      <th>cogs</th>\n",
              "      <th>gross margin percentage</th>\n",
              "      <th>gross income</th>\n",
              "      <th>Rating</th>\n",
              "    </tr>\n",
              "  </thead>\n",
              "  <tbody>\n",
              "    <tr>\n",
              "      <th>0</th>\n",
              "      <td>0.0</td>\n",
              "      <td>0.0</td>\n",
              "      <td>0.0</td>\n",
              "      <td>0.0</td>\n",
              "      <td>0.0</td>\n",
              "      <td>0.718847</td>\n",
              "      <td>0.666667</td>\n",
              "      <td>0.521616</td>\n",
              "      <td>0.521616</td>\n",
              "      <td>0.0</td>\n",
              "      <td>0.521616</td>\n",
              "      <td>0.0</td>\n",
              "      <td>0.521616</td>\n",
              "      <td>0.850000</td>\n",
              "    </tr>\n",
              "    <tr>\n",
              "      <th>1</th>\n",
              "      <td>1.0</td>\n",
              "      <td>0.5</td>\n",
              "      <td>1.0</td>\n",
              "      <td>0.0</td>\n",
              "      <td>0.2</td>\n",
              "      <td>0.057855</td>\n",
              "      <td>0.444444</td>\n",
              "      <td>0.067387</td>\n",
              "      <td>0.067387</td>\n",
              "      <td>0.5</td>\n",
              "      <td>0.067387</td>\n",
              "      <td>0.0</td>\n",
              "      <td>0.067387</td>\n",
              "      <td>0.933333</td>\n",
              "    </tr>\n",
              "    <tr>\n",
              "      <th>2</th>\n",
              "      <td>0.0</td>\n",
              "      <td>0.0</td>\n",
              "      <td>1.0</td>\n",
              "      <td>1.0</td>\n",
              "      <td>0.4</td>\n",
              "      <td>0.403316</td>\n",
              "      <td>0.666667</td>\n",
              "      <td>0.319628</td>\n",
              "      <td>0.319628</td>\n",
              "      <td>1.0</td>\n",
              "      <td>0.319628</td>\n",
              "      <td>0.0</td>\n",
              "      <td>0.319628</td>\n",
              "      <td>0.566667</td>\n",
              "    </tr>\n",
              "    <tr>\n",
              "      <th>3</th>\n",
              "      <td>0.0</td>\n",
              "      <td>0.0</td>\n",
              "      <td>0.0</td>\n",
              "      <td>1.0</td>\n",
              "      <td>0.0</td>\n",
              "      <td>0.535603</td>\n",
              "      <td>0.777778</td>\n",
              "      <td>0.463549</td>\n",
              "      <td>0.463549</td>\n",
              "      <td>0.0</td>\n",
              "      <td>0.463549</td>\n",
              "      <td>0.0</td>\n",
              "      <td>0.463549</td>\n",
              "      <td>0.733333</td>\n",
              "    </tr>\n",
              "    <tr>\n",
              "      <th>4</th>\n",
              "      <td>0.0</td>\n",
              "      <td>0.0</td>\n",
              "      <td>1.0</td>\n",
              "      <td>1.0</td>\n",
              "      <td>0.6</td>\n",
              "      <td>0.848131</td>\n",
              "      <td>0.666667</td>\n",
              "      <td>0.604377</td>\n",
              "      <td>0.604377</td>\n",
              "      <td>0.0</td>\n",
              "      <td>0.604377</td>\n",
              "      <td>0.0</td>\n",
              "      <td>0.604377</td>\n",
              "      <td>0.216667</td>\n",
              "    </tr>\n",
              "  </tbody>\n",
              "</table>\n",
              "</div>"
            ],
            "text/plain": [
              "   Branch  City  Customer type  Gender  Product line  Unit price  Quantity  \\\n",
              "0     0.0   0.0            0.0     0.0           0.0    0.718847  0.666667   \n",
              "1     1.0   0.5            1.0     0.0           0.2    0.057855  0.444444   \n",
              "2     0.0   0.0            1.0     1.0           0.4    0.403316  0.666667   \n",
              "3     0.0   0.0            0.0     1.0           0.0    0.535603  0.777778   \n",
              "4     0.0   0.0            1.0     1.0           0.6    0.848131  0.666667   \n",
              "\n",
              "     Tax 5%     Total  Payment      cogs  gross margin percentage  \\\n",
              "0  0.521616  0.521616      0.0  0.521616                      0.0   \n",
              "1  0.067387  0.067387      0.5  0.067387                      0.0   \n",
              "2  0.319628  0.319628      1.0  0.319628                      0.0   \n",
              "3  0.463549  0.463549      0.0  0.463549                      0.0   \n",
              "4  0.604377  0.604377      0.0  0.604377                      0.0   \n",
              "\n",
              "   gross income    Rating  \n",
              "0      0.521616  0.850000  \n",
              "1      0.067387  0.933333  \n",
              "2      0.319628  0.566667  \n",
              "3      0.463549  0.733333  \n",
              "4      0.604377  0.216667  "
            ]
          },
          "execution_count": 161,
          "metadata": {},
          "output_type": "execute_result"
        }
      ],
      "source": [
        "# standard scaler  \n",
        "scaler = StandardScaler()\n",
        "X_copy = dn.copy() \n",
        "scaler = MinMaxScaler()\n",
        "X_columns = dn.columns\n",
        "trans_formed_standard = pd.DataFrame(scaler.fit_transform(X_copy), columns=X_columns)\n",
        "trans_formed_standard.head()"
      ]
    },
    {
      "cell_type": "markdown",
      "metadata": {
        "id": "t0KCFNd5L-FC"
      },
      "source": [
        "# **5. Apply KNN for the preprocessed dataset use 5 different K Values and 3 different**\n",
        "# **Distance measures**"
      ]
    },
    {
      "cell_type": "code",
      "execution_count": null,
      "metadata": {
        "id": "WdiTckdmLKvB"
      },
      "outputs": [],
      "source": [
        "#df.drop(\"Time\", axis=1, inplace=True)\n",
        "#df.drop(\"Date\", axis=1, inplace=True)\n",
        "#df.drop(\"Invoice ID\", axis=1, inplace=True)\n",
        "trans_formed_min_max.drop('gross margin percentage', axis=1, inplace=True)"
      ]
    },
    {
      "cell_type": "code",
      "execution_count": null,
      "metadata": {
        "colab": {
          "base_uri": "https://localhost:8080/",
          "height": 206
        },
        "id": "3FtSemgsNQ-S",
        "outputId": "4fa7b465-bf10-42d5-9407-804c2ccd66bc"
      },
      "outputs": [
        {
          "data": {
            "text/html": [
              "<div>\n",
              "<style scoped>\n",
              "    .dataframe tbody tr th:only-of-type {\n",
              "        vertical-align: middle;\n",
              "    }\n",
              "\n",
              "    .dataframe tbody tr th {\n",
              "        vertical-align: top;\n",
              "    }\n",
              "\n",
              "    .dataframe thead th {\n",
              "        text-align: right;\n",
              "    }\n",
              "</style>\n",
              "<table border=\"1\" class=\"dataframe\">\n",
              "  <thead>\n",
              "    <tr style=\"text-align: right;\">\n",
              "      <th></th>\n",
              "      <th>Branch</th>\n",
              "      <th>City</th>\n",
              "      <th>Customer type</th>\n",
              "      <th>Gender</th>\n",
              "      <th>Product line</th>\n",
              "      <th>Unit price</th>\n",
              "      <th>Quantity</th>\n",
              "      <th>Tax 5%</th>\n",
              "      <th>Total</th>\n",
              "      <th>Payment</th>\n",
              "      <th>cogs</th>\n",
              "      <th>gross income</th>\n",
              "      <th>Rating</th>\n",
              "    </tr>\n",
              "  </thead>\n",
              "  <tbody>\n",
              "    <tr>\n",
              "      <th>0</th>\n",
              "      <td>0.0</td>\n",
              "      <td>0.0</td>\n",
              "      <td>0.0</td>\n",
              "      <td>0.0</td>\n",
              "      <td>0.0</td>\n",
              "      <td>0.718847</td>\n",
              "      <td>0.666667</td>\n",
              "      <td>0.521616</td>\n",
              "      <td>0.521616</td>\n",
              "      <td>0.0</td>\n",
              "      <td>0.521616</td>\n",
              "      <td>0.521616</td>\n",
              "      <td>0.850000</td>\n",
              "    </tr>\n",
              "    <tr>\n",
              "      <th>1</th>\n",
              "      <td>1.0</td>\n",
              "      <td>0.5</td>\n",
              "      <td>1.0</td>\n",
              "      <td>0.0</td>\n",
              "      <td>0.2</td>\n",
              "      <td>0.057855</td>\n",
              "      <td>0.444444</td>\n",
              "      <td>0.067387</td>\n",
              "      <td>0.067387</td>\n",
              "      <td>0.5</td>\n",
              "      <td>0.067387</td>\n",
              "      <td>0.067387</td>\n",
              "      <td>0.933333</td>\n",
              "    </tr>\n",
              "    <tr>\n",
              "      <th>2</th>\n",
              "      <td>0.0</td>\n",
              "      <td>0.0</td>\n",
              "      <td>1.0</td>\n",
              "      <td>1.0</td>\n",
              "      <td>0.4</td>\n",
              "      <td>0.403316</td>\n",
              "      <td>0.666667</td>\n",
              "      <td>0.319628</td>\n",
              "      <td>0.319628</td>\n",
              "      <td>1.0</td>\n",
              "      <td>0.319628</td>\n",
              "      <td>0.319628</td>\n",
              "      <td>0.566667</td>\n",
              "    </tr>\n",
              "    <tr>\n",
              "      <th>3</th>\n",
              "      <td>0.0</td>\n",
              "      <td>0.0</td>\n",
              "      <td>0.0</td>\n",
              "      <td>1.0</td>\n",
              "      <td>0.0</td>\n",
              "      <td>0.535603</td>\n",
              "      <td>0.777778</td>\n",
              "      <td>0.463549</td>\n",
              "      <td>0.463549</td>\n",
              "      <td>0.0</td>\n",
              "      <td>0.463549</td>\n",
              "      <td>0.463549</td>\n",
              "      <td>0.733333</td>\n",
              "    </tr>\n",
              "    <tr>\n",
              "      <th>4</th>\n",
              "      <td>0.0</td>\n",
              "      <td>0.0</td>\n",
              "      <td>1.0</td>\n",
              "      <td>1.0</td>\n",
              "      <td>0.6</td>\n",
              "      <td>0.848131</td>\n",
              "      <td>0.666667</td>\n",
              "      <td>0.604377</td>\n",
              "      <td>0.604377</td>\n",
              "      <td>0.0</td>\n",
              "      <td>0.604377</td>\n",
              "      <td>0.604377</td>\n",
              "      <td>0.216667</td>\n",
              "    </tr>\n",
              "  </tbody>\n",
              "</table>\n",
              "</div>"
            ],
            "text/plain": [
              "   Branch  City  Customer type  Gender  Product line  Unit price  Quantity  \\\n",
              "0     0.0   0.0            0.0     0.0           0.0    0.718847  0.666667   \n",
              "1     1.0   0.5            1.0     0.0           0.2    0.057855  0.444444   \n",
              "2     0.0   0.0            1.0     1.0           0.4    0.403316  0.666667   \n",
              "3     0.0   0.0            0.0     1.0           0.0    0.535603  0.777778   \n",
              "4     0.0   0.0            1.0     1.0           0.6    0.848131  0.666667   \n",
              "\n",
              "     Tax 5%     Total  Payment      cogs  gross income    Rating  \n",
              "0  0.521616  0.521616      0.0  0.521616      0.521616  0.850000  \n",
              "1  0.067387  0.067387      0.5  0.067387      0.067387  0.933333  \n",
              "2  0.319628  0.319628      1.0  0.319628      0.319628  0.566667  \n",
              "3  0.463549  0.463549      0.0  0.463549      0.463549  0.733333  \n",
              "4  0.604377  0.604377      0.0  0.604377      0.604377  0.216667  "
            ]
          },
          "execution_count": 163,
          "metadata": {},
          "output_type": "execute_result"
        }
      ],
      "source": [
        "trans_formed_min_max.head()"
      ]
    },
    {
      "cell_type": "code",
      "execution_count": null,
      "metadata": {
        "id": "HyP-kcZhNbbi"
      },
      "outputs": [],
      "source": [
        "#trans_formed_min_max['gross margin percentage'].unique()"
      ]
    },
    {
      "cell_type": "code",
      "execution_count": null,
      "metadata": {
        "id": "LbN77wqXOyCz"
      },
      "outputs": [],
      "source": [
        "\n",
        "def knnValue(kValue, metricccc):\n",
        "    knn = KNeighborsClassifier(n_neighbors=kValue, metric = metricccc)\n",
        "  \n",
        "    numRows = trans_formed_min_max.shape[0]\n",
        "    trainSize = round(numRows * 0.6) \n",
        "  # divide train and test dataset\n",
        "    train = trans_formed_min_max.iloc[:trainSize, : ]\n",
        "    test = trans_formed_min_max.iloc[trainSize : , :]\n",
        "\n",
        "    x_cols = [\"City\", \"Branch\",\"Gender\" , \"Product line\", \"Unit price\", \"Quantity\", \"Tax 5%\", \"Total\", \"Payment\", 'cogs', 'gross income', 'Rating']\n",
        "    y_col = [\"Customer type\"]\n",
        "\n",
        "    knn.fit(train[x_cols], train[y_col])\n",
        "    print(\"Train score \"+str(knn.score(train[x_cols], train[y_col])))\n",
        "    print(\"Test score \"+str(knn.score(test[x_cols], test[y_col])))\n",
        "    return (knn.score(test[x_cols], test[y_col]))"
      ]
    },
    {
      "cell_type": "code",
      "execution_count": null,
      "metadata": {
        "id": "I7_X60WCagEv"
      },
      "outputs": [],
      "source": [
        "x_minKowski = []\n",
        "y_minKowski = []\n",
        "\n",
        "x_euclidean = []\n",
        "y_euclidean = []\n",
        "\n",
        "x_manhattan = []\n",
        "y_manhattan = []"
      ]
    },
    {
      "cell_type": "code",
      "execution_count": null,
      "metadata": {
        "colab": {
          "base_uri": "https://localhost:8080/"
        },
        "id": "_FXdVw1iPn1t",
        "outputId": "6b7719aa-f3a8-4657-b0d9-1b6b4888fbd5"
      },
      "outputs": [
        {
          "name": "stdout",
          "output_type": "stream",
          "text": [
            "Train score 0.7616666666666667\n",
            "Test score 0.5125\n"
          ]
        },
        {
          "name": "stderr",
          "output_type": "stream",
          "text": [
            "/home/rajesh/.local/lib/python3.10/site-packages/sklearn/neighbors/_classification.py:200: DataConversionWarning: A column-vector y was passed when a 1d array was expected. Please change the shape of y to (n_samples,), for example using ravel().\n",
            "  return self._fit(X, y)\n"
          ]
        }
      ],
      "source": [
        "y_minKowski.append(knnValue(2, 'minkowski'))\n",
        "x_minKowski.append(2)"
      ]
    },
    {
      "cell_type": "code",
      "execution_count": null,
      "metadata": {
        "colab": {
          "base_uri": "https://localhost:8080/"
        },
        "id": "3ROVYJnzPrAl",
        "outputId": "8751b90d-85fa-48bc-d053-28ac68a50fb0"
      },
      "outputs": [
        {
          "name": "stderr",
          "output_type": "stream",
          "text": [
            "/home/rajesh/.local/lib/python3.10/site-packages/sklearn/neighbors/_classification.py:200: DataConversionWarning: A column-vector y was passed when a 1d array was expected. Please change the shape of y to (n_samples,), for example using ravel().\n",
            "  return self._fit(X, y)\n"
          ]
        },
        {
          "name": "stdout",
          "output_type": "stream",
          "text": [
            "Train score 0.7416666666666667\n",
            "Test score 0.5075\n"
          ]
        }
      ],
      "source": [
        "#knnValue(3, 'minkowski')\n",
        "y_minKowski.append(knnValue(3, 'minkowski'))\n",
        "x_minKowski.append(3)"
      ]
    },
    {
      "cell_type": "code",
      "execution_count": null,
      "metadata": {
        "colab": {
          "base_uri": "https://localhost:8080/"
        },
        "id": "kqfkUSfLPsi1",
        "outputId": "c614aabd-b158-4f3d-b12e-8d28c64becc7"
      },
      "outputs": [
        {
          "name": "stderr",
          "output_type": "stream",
          "text": [
            "/home/rajesh/.local/lib/python3.10/site-packages/sklearn/neighbors/_classification.py:200: DataConversionWarning: A column-vector y was passed when a 1d array was expected. Please change the shape of y to (n_samples,), for example using ravel().\n",
            "  return self._fit(X, y)\n"
          ]
        },
        {
          "name": "stdout",
          "output_type": "stream",
          "text": [
            "Train score 0.6633333333333333\n",
            "Test score 0.5275\n"
          ]
        }
      ],
      "source": [
        "#knnValue(4, 'minkowski')\n",
        "y_minKowski.append(knnValue(4, 'minkowski'))\n",
        "x_minKowski.append(4)"
      ]
    },
    {
      "cell_type": "code",
      "execution_count": null,
      "metadata": {
        "colab": {
          "base_uri": "https://localhost:8080/"
        },
        "id": "7Wk2qSO8SF_D",
        "outputId": "abedb5e9-fa24-4388-f5b2-b347a029837d"
      },
      "outputs": [
        {
          "name": "stdout",
          "output_type": "stream",
          "text": [
            "Train score 0.6716666666666666\n",
            "Test score 0.48\n"
          ]
        },
        {
          "name": "stderr",
          "output_type": "stream",
          "text": [
            "/home/rajesh/.local/lib/python3.10/site-packages/sklearn/neighbors/_classification.py:200: DataConversionWarning: A column-vector y was passed when a 1d array was expected. Please change the shape of y to (n_samples,), for example using ravel().\n",
            "  return self._fit(X, y)\n"
          ]
        }
      ],
      "source": [
        "#knnValue(5, 'minkowski')\n",
        "y_minKowski.append(knnValue(5, 'minkowski'))\n",
        "x_minKowski.append(5)"
      ]
    },
    {
      "cell_type": "code",
      "execution_count": null,
      "metadata": {
        "colab": {
          "base_uri": "https://localhost:8080/"
        },
        "id": "q4NZDiMSWzgx",
        "outputId": "07091150-8341-44a5-e937-8fca7ba3dc73"
      },
      "outputs": [
        {
          "name": "stderr",
          "output_type": "stream",
          "text": [
            "/home/rajesh/.local/lib/python3.10/site-packages/sklearn/neighbors/_classification.py:200: DataConversionWarning: A column-vector y was passed when a 1d array was expected. Please change the shape of y to (n_samples,), for example using ravel().\n",
            "  return self._fit(X, y)\n"
          ]
        },
        {
          "name": "stdout",
          "output_type": "stream",
          "text": [
            "Train score 0.7616666666666667\n",
            "Test score 0.5125\n"
          ]
        }
      ],
      "source": [
        "#knnValue(2, 'euclidean')\n",
        "y_euclidean.append(knnValue(2, 'euclidean'))\n",
        "x_euclidean.append(2)"
      ]
    },
    {
      "cell_type": "code",
      "execution_count": null,
      "metadata": {
        "colab": {
          "base_uri": "https://localhost:8080/"
        },
        "id": "iYboVym8W5nU",
        "outputId": "393771f9-a12d-45dc-9e5c-e64c7d6a50e1"
      },
      "outputs": [
        {
          "name": "stdout",
          "output_type": "stream",
          "text": [
            "Train score 0.7416666666666667\n",
            "Test score 0.5075\n"
          ]
        },
        {
          "name": "stderr",
          "output_type": "stream",
          "text": [
            "/home/rajesh/.local/lib/python3.10/site-packages/sklearn/neighbors/_classification.py:200: DataConversionWarning: A column-vector y was passed when a 1d array was expected. Please change the shape of y to (n_samples,), for example using ravel().\n",
            "  return self._fit(X, y)\n"
          ]
        }
      ],
      "source": [
        "#knnValue(3, 'euclidean')\n",
        "y_euclidean.append(knnValue(3, 'euclidean'))\n",
        "x_euclidean.append(3)"
      ]
    },
    {
      "cell_type": "code",
      "execution_count": null,
      "metadata": {
        "colab": {
          "base_uri": "https://localhost:8080/"
        },
        "id": "no1bO9wwa99I",
        "outputId": "defc55d3-732d-46fa-c4ae-943a3112d7f5"
      },
      "outputs": [
        {
          "name": "stderr",
          "output_type": "stream",
          "text": [
            "/home/rajesh/.local/lib/python3.10/site-packages/sklearn/neighbors/_classification.py:200: DataConversionWarning: A column-vector y was passed when a 1d array was expected. Please change the shape of y to (n_samples,), for example using ravel().\n",
            "  return self._fit(X, y)\n"
          ]
        },
        {
          "name": "stdout",
          "output_type": "stream",
          "text": [
            "Train score 0.6633333333333333\n",
            "Test score 0.5275\n"
          ]
        }
      ],
      "source": [
        "#knnValue(4, 'euclidean')\n",
        "y_euclidean.append(knnValue(4, 'euclidean'))\n",
        "x_euclidean.append(4)"
      ]
    },
    {
      "cell_type": "code",
      "execution_count": null,
      "metadata": {
        "colab": {
          "base_uri": "https://localhost:8080/"
        },
        "id": "k19Gh-ePc0lB",
        "outputId": "616b5730-c6cd-4aff-d006-86a2b6b21f84"
      },
      "outputs": [
        {
          "name": "stderr",
          "output_type": "stream",
          "text": [
            "/home/rajesh/.local/lib/python3.10/site-packages/sklearn/neighbors/_classification.py:200: DataConversionWarning: A column-vector y was passed when a 1d array was expected. Please change the shape of y to (n_samples,), for example using ravel().\n",
            "  return self._fit(X, y)\n"
          ]
        },
        {
          "name": "stdout",
          "output_type": "stream",
          "text": [
            "Train score 0.6716666666666666\n",
            "Test score 0.48\n"
          ]
        }
      ],
      "source": [
        "#knnValue(5, 'euclidean')\n",
        "y_euclidean.append(knnValue(5, 'euclidean'))\n",
        "x_euclidean.append(5)"
      ]
    },
    {
      "cell_type": "code",
      "execution_count": null,
      "metadata": {
        "colab": {
          "base_uri": "https://localhost:8080/"
        },
        "id": "0ikL-iHfc15p",
        "outputId": "5c7c940c-5297-49d7-ba15-bfc6da3676a9"
      },
      "outputs": [
        {
          "name": "stdout",
          "output_type": "stream",
          "text": [
            "Train score 0.6416666666666667\n",
            "Test score 0.4875\n"
          ]
        },
        {
          "name": "stderr",
          "output_type": "stream",
          "text": [
            "/home/rajesh/.local/lib/python3.10/site-packages/sklearn/neighbors/_classification.py:200: DataConversionWarning: A column-vector y was passed when a 1d array was expected. Please change the shape of y to (n_samples,), for example using ravel().\n",
            "  return self._fit(X, y)\n"
          ]
        }
      ],
      "source": [
        "#knnValue(6, 'euclidean')\n",
        "y_euclidean.append(knnValue(6, 'euclidean'))\n",
        "x_euclidean.append(6)"
      ]
    },
    {
      "cell_type": "code",
      "execution_count": null,
      "metadata": {
        "colab": {
          "base_uri": "https://localhost:8080/"
        },
        "id": "B8NWPls8c4WB",
        "outputId": "cc00dfeb-6622-4cfa-f329-f77d48656659"
      },
      "outputs": [
        {
          "name": "stdout",
          "output_type": "stream",
          "text": [
            "Train score 0.7516666666666667\n",
            "Test score 0.53\n"
          ]
        },
        {
          "name": "stderr",
          "output_type": "stream",
          "text": [
            "/home/rajesh/.local/lib/python3.10/site-packages/sklearn/neighbors/_classification.py:200: DataConversionWarning: A column-vector y was passed when a 1d array was expected. Please change the shape of y to (n_samples,), for example using ravel().\n",
            "  return self._fit(X, y)\n"
          ]
        }
      ],
      "source": [
        "#knnValue(2, 'manhattan')\n",
        "y_manhattan.append(knnValue(2, 'manhattan'))\n",
        "x_manhattan.append(2)"
      ]
    },
    {
      "cell_type": "code",
      "execution_count": null,
      "metadata": {
        "colab": {
          "base_uri": "https://localhost:8080/"
        },
        "id": "e10GheYqdfCh",
        "outputId": "d3015a09-8b9e-4bab-95be-95c60b858c44"
      },
      "outputs": [
        {
          "name": "stdout",
          "output_type": "stream",
          "text": [
            "Train score 0.74\n",
            "Test score 0.485\n"
          ]
        },
        {
          "name": "stderr",
          "output_type": "stream",
          "text": [
            "/home/rajesh/.local/lib/python3.10/site-packages/sklearn/neighbors/_classification.py:200: DataConversionWarning: A column-vector y was passed when a 1d array was expected. Please change the shape of y to (n_samples,), for example using ravel().\n",
            "  return self._fit(X, y)\n"
          ]
        }
      ],
      "source": [
        "#knnValue(3, 'manhattan')\n",
        "y_manhattan.append(knnValue(3, 'manhattan'))\n",
        "x_manhattan.append(3)"
      ]
    },
    {
      "cell_type": "code",
      "execution_count": null,
      "metadata": {
        "colab": {
          "base_uri": "https://localhost:8080/"
        },
        "id": "8B3KdWdudhLQ",
        "outputId": "8183f33f-fc67-4dab-ef24-55e80f6f0ece"
      },
      "outputs": [
        {
          "name": "stdout",
          "output_type": "stream",
          "text": [
            "Train score 0.6783333333333333\n",
            "Test score 0.5125\n"
          ]
        },
        {
          "name": "stderr",
          "output_type": "stream",
          "text": [
            "/home/rajesh/.local/lib/python3.10/site-packages/sklearn/neighbors/_classification.py:200: DataConversionWarning: A column-vector y was passed when a 1d array was expected. Please change the shape of y to (n_samples,), for example using ravel().\n",
            "  return self._fit(X, y)\n"
          ]
        }
      ],
      "source": [
        "#knnValue(4, 'manhattan')\n",
        "y_manhattan.append(knnValue(4, 'manhattan'))\n",
        "x_manhattan.append(4)"
      ]
    },
    {
      "cell_type": "code",
      "execution_count": null,
      "metadata": {
        "colab": {
          "base_uri": "https://localhost:8080/"
        },
        "id": "JFaIH-e0div4",
        "outputId": "2cf54150-7b59-498f-fac2-5a8743633dc0"
      },
      "outputs": [
        {
          "name": "stderr",
          "output_type": "stream",
          "text": [
            "/home/rajesh/.local/lib/python3.10/site-packages/sklearn/neighbors/_classification.py:200: DataConversionWarning: A column-vector y was passed when a 1d array was expected. Please change the shape of y to (n_samples,), for example using ravel().\n",
            "  return self._fit(X, y)\n"
          ]
        },
        {
          "name": "stdout",
          "output_type": "stream",
          "text": [
            "Train score 0.74\n",
            "Test score 0.485\n"
          ]
        }
      ],
      "source": [
        "#knnValue(5, 'manhattan')\n",
        "y_manhattan.append(knnValue(3, 'manhattan'))\n",
        "x_manhattan.append(5)"
      ]
    },
    {
      "cell_type": "code",
      "execution_count": null,
      "metadata": {
        "colab": {
          "base_uri": "https://localhost:8080/"
        },
        "id": "J0o3IGtFdj3g",
        "outputId": "4e3d8e2a-9a0e-4897-8375-47605ecdcd52"
      },
      "outputs": [
        {
          "name": "stdout",
          "output_type": "stream",
          "text": [
            "Train score 0.6583333333333333\n",
            "Test score 0.4975\n"
          ]
        },
        {
          "name": "stderr",
          "output_type": "stream",
          "text": [
            "/home/rajesh/.local/lib/python3.10/site-packages/sklearn/neighbors/_classification.py:200: DataConversionWarning: A column-vector y was passed when a 1d array was expected. Please change the shape of y to (n_samples,), for example using ravel().\n",
            "  return self._fit(X, y)\n"
          ]
        }
      ],
      "source": [
        "#knnValue(6, 'manhattan')\n",
        "y_manhattan.append(knnValue(6, 'manhattan'))\n",
        "x_manhattan.append(3)"
      ]
    },
    {
      "cell_type": "markdown",
      "metadata": {
        "id": "nyNzZOP8i7lh"
      },
      "source": [
        "# **Ploting the test scores with diffrent kvalues and differnt distance measures**"
      ]
    },
    {
      "cell_type": "code",
      "execution_count": null,
      "metadata": {
        "colab": {
          "base_uri": "https://localhost:8080/"
        },
        "id": "2kFnZq17dlLZ",
        "outputId": "45bd6ae9-6baf-4aa3-8de9-2eede607133d"
      },
      "outputs": [
        {
          "name": "stdout",
          "output_type": "stream",
          "text": [
            "MinKowski x axis[2, 3, 4, 5]\n",
            "MinKowski y axis[0.5125, 0.5075, 0.5275, 0.48]\n",
            "manhattan x axis[2, 3, 4, 5, 3]\n",
            "manhattan y axis[0.53, 0.485, 0.5125, 0.485, 0.4975]\n",
            "euclidean x axis[2, 3, 4, 5, 6]\n",
            "euclidean y axis[0.5125, 0.5075, 0.5275, 0.48, 0.4875]\n"
          ]
        }
      ],
      "source": [
        "#minkowski\n",
        "print(\"MinKowski x axis\"+ str(x_minKowski))\n",
        "print(\"MinKowski y axis\"+ str(y_minKowski))\n",
        "#manhattan\n",
        "print(\"manhattan x axis\"+ str(x_manhattan))\n",
        "print(\"manhattan y axis\"+ str(y_manhattan))\n",
        "#euclidean\n",
        "print(\"euclidean x axis\"+ str(x_euclidean))\n",
        "print(\"euclidean y axis\"+ str(y_euclidean))"
      ]
    },
    {
      "cell_type": "code",
      "execution_count": null,
      "metadata": {
        "id": "_HVZLFVWfxuM"
      },
      "outputs": [],
      "source": []
    },
    {
      "cell_type": "code",
      "execution_count": null,
      "metadata": {
        "colab": {
          "base_uri": "https://localhost:8080/",
          "height": 296
        },
        "id": "WHkjL-tUfy90",
        "outputId": "2bee9d1d-e46b-46c7-aacc-dbdbbe89450c"
      },
      "outputs": [
        {
          "data": {
            "image/png": "[encoded data removed]",
            "text/plain": [
              "<Figure size 432x288 with 1 Axes>"
            ]
          },
          "metadata": {
            "needs_background": "light"
          },
          "output_type": "display_data"
        }
      ],
      "source": [
        "plt.plot(x_minKowski, y_minKowski)\n",
        "plt.xlabel(\"k_value\")\n",
        "plt.ylabel(\"test_score\")\n",
        "plt.title(\"MinKowski\")\n",
        "plt.plot()\n",
        "plt.show()"
      ]
    },
    {
      "cell_type": "code",
      "execution_count": null,
      "metadata": {
        "colab": {
          "base_uri": "https://localhost:8080/",
          "height": 296
        },
        "id": "eGgcvhskf4KV",
        "outputId": "d8da8aaf-d23c-46f8-eaf2-cc42d50c0d3a"
      },
      "outputs": [
        {
          "data": {
            "image/png": "[encoded data removed]",
            "text/plain": [
              "<Figure size 432x288 with 1 Axes>"
            ]
          },
          "metadata": {
            "needs_background": "light"
          },
          "output_type": "display_data"
        }
      ],
      "source": [
        "plt.plot(x_manhattan, y_manhattan)\n",
        "plt.xlabel(\"k_value\")\n",
        "plt.ylabel(\"test_score\")\n",
        "plt.title(\"Manhattan\")\n",
        "plt.plot()\n",
        "plt.show()"
      ]
    },
    {
      "cell_type": "code",
      "execution_count": null,
      "metadata": {
        "colab": {
          "base_uri": "https://localhost:8080/",
          "height": 296
        },
        "id": "xrR3ADqcgknj",
        "outputId": "b320d804-5377-44e4-89d8-6e8e0531476c"
      },
      "outputs": [
        {
          "data": {
            "image/png": "[encoded data removed]",
            "text/plain": [
              "<Figure size 432x288 with 1 Axes>"
            ]
          },
          "metadata": {
            "needs_background": "light"
          },
          "output_type": "display_data"
        }
      ],
      "source": [
        "plt.plot(x_euclidean, y_euclidean)\n",
        "plt.xlabel(\"k_value\")\n",
        "plt.ylabel(\"test_score\")\n",
        "plt.title(\"euclidean\")\n",
        "plt.plot()\n",
        "plt.show()"
      ]
    },
    {
      "cell_type": "markdown",
      "metadata": {
        "id": "kZg36CoqjR3R"
      },
      "source": [
        "**Inference**: From the above graph we can conclude that the manhattan with 2 as k value has the highest test score compared to others\n"
      ]
    },
    {
      "cell_type": "code",
      "execution_count": null,
      "metadata": {
        "id": "CH-26IaQjRiN"
      },
      "outputs": [],
      "source": []
    },
    {
      "cell_type": "markdown",
      "metadata": {
        "id": "fhVMGmCK6ww7"
      },
      "source": [
        "# **6. Display the confusion matrix, accuracy measures, classification report.**"
      ]
    },
    {
      "cell_type": "code",
      "execution_count": null,
      "metadata": {
        "id": "zmRUbr5uhUKt"
      },
      "outputs": [],
      "source": [
        "#print(confusion_matrix(y_test,y_pred))"
      ]
    },
    {
      "cell_type": "code",
      "execution_count": null,
      "metadata": {
        "id": "FSkDBhub6u7b"
      },
      "outputs": [],
      "source": [
        "def confusionMatrix(kValue, metricccc):\n",
        "    knn = KNeighborsClassifier(n_neighbors=kValue, metric = metricccc)\n",
        "  \n",
        "    numRows = trans_formed_min_max.shape[0]\n",
        "    trainSize = round(numRows * 0.6) \n",
        "    # divide train and test dataset\n",
        "    train = trans_formed_min_max.iloc[:trainSize, : ]\n",
        "    test = trans_formed_min_max.iloc[trainSize : , :]\n",
        "\n",
        "    x_cols = [\"City\", \"Branch\",\"Gender\" , \"Product line\", \"Unit price\", \"Quantity\", \"Tax 5%\", \"Total\", \"Payment\", 'cogs', 'gross income', 'Rating']\n",
        "    y_col = [\"Customer type\"]\n",
        "\n",
        "    knn.fit(train[x_cols], train[y_col])\n",
        "  \n",
        "    y_pred = knn.predict(test[x_cols])\n",
        "    print(classification_report(test[y_col], y_pred))\n",
        "    print(confusion_matrix(test[y_col],y_pred))\n",
        "    print('\\n__________________________________________________________________________________\\n')\n",
        "    print(\"Accuracy score:\\n\")\n",
        "    print(metrics.accuracy_score(test[y_col], y_pred))"
      ]
    },
    {
      "cell_type": "code",
      "execution_count": null,
      "metadata": {
        "id": "jZKmR0N5DOHO"
      },
      "outputs": [],
      "source": []
    },
    {
      "cell_type": "code",
      "execution_count": null,
      "metadata": {
        "id": "FmGu7j9cA5jf"
      },
      "outputs": [],
      "source": [
        "methods_met = ['minkowski', 'euclidean', 'manhattan']"
      ]
    },
    {
      "cell_type": "code",
      "execution_count": null,
      "metadata": {
        "colab": {
          "base_uri": "https://localhost:8080/"
        },
        "id": "ZQvck6q3BIEt",
        "outputId": "c9d59037-12cd-4a2c-98bb-7c4b189cb861"
      },
      "outputs": [
        {
          "name": "stdout",
          "output_type": "stream",
          "text": [
            "\n",
            "*********************************************************************************\n",
            "\n",
            "\n",
            "The Score of minkowski with k value of 2 is: \n",
            "\n",
            "__________________________________________________________________________________\n",
            "\n",
            "              precision    recall  f1-score   support\n",
            "\n",
            "         0.0       0.54      0.68      0.60       217\n",
            "         1.0       0.45      0.32      0.37       183\n",
            "\n",
            "    accuracy                           0.51       400\n",
            "   macro avg       0.50      0.50      0.49       400\n",
            "weighted avg       0.50      0.51      0.50       400\n",
            "\n",
            "[[147  70]\n",
            " [125  58]]\n",
            "\n",
            "__________________________________________________________________________________\n",
            "\n",
            "Accuracy score:\n",
            "\n",
            "0.5125\n",
            "None\n",
            "\n",
            "**********************************************************************************\n",
            "\n",
            "\n",
            "\n",
            "\n",
            "*********************************************************************************\n",
            "\n",
            "\n",
            "The Score of minkowski with k value of 3 is: \n",
            "\n",
            "__________________________________________________________________________________\n",
            "\n",
            "              precision    recall  f1-score   support\n",
            "\n",
            "         0.0       0.56      0.43      0.49       217\n",
            "         1.0       0.47      0.60      0.53       183\n",
            "\n",
            "    accuracy                           0.51       400\n",
            "   macro avg       0.51      0.51      0.51       400\n",
            "weighted avg       0.52      0.51      0.51       400\n",
            "\n",
            "[[ 94 123]\n",
            " [ 74 109]]\n",
            "\n",
            "__________________________________________________________________________________\n",
            "\n",
            "Accuracy score:\n",
            "\n",
            "0.5075\n",
            "None\n",
            "\n",
            "**********************************************************************************\n",
            "\n",
            "\n",
            "\n",
            "\n",
            "*********************************************************************************\n",
            "\n",
            "\n",
            "The Score of minkowski with k value of 4 is: \n",
            "\n",
            "__________________________________________________________________________________\n",
            "\n",
            "              precision    recall  f1-score   support\n",
            "\n",
            "         0.0       0.56      0.65      0.60       217\n",
            "         1.0       0.48      0.39      0.43       183\n",
            "\n",
            "    accuracy                           0.53       400\n",
            "   macro avg       0.52      0.52      0.51       400\n",
            "weighted avg       0.52      0.53      0.52       400\n",
            "\n",
            "[[140  77]\n",
            " [112  71]]\n",
            "\n",
            "__________________________________________________________________________________\n",
            "\n",
            "Accuracy score:\n",
            "\n",
            "0.5275\n",
            "None\n",
            "\n",
            "**********************************************************************************\n",
            "\n",
            "\n",
            "\n",
            "\n",
            "*********************************************************************************\n",
            "\n",
            "\n",
            "The Score of minkowski with k value of 5 is: \n",
            "\n",
            "__________________________________________________________________________________\n",
            "\n",
            "              precision    recall  f1-score   support\n",
            "\n",
            "         0.0       0.53      0.41      0.46       217\n",
            "         1.0       0.45      0.57      0.50       183\n",
            "\n",
            "    accuracy                           0.48       400\n",
            "   macro avg       0.49      0.49      0.48       400\n",
            "weighted avg       0.49      0.48      0.48       400\n",
            "\n",
            "[[ 88 129]\n",
            " [ 79 104]]\n",
            "\n",
            "__________________________________________________________________________________\n",
            "\n",
            "Accuracy score:\n",
            "\n",
            "0.48\n",
            "None\n",
            "\n",
            "**********************************************************************************\n",
            "\n",
            "\n",
            "\n",
            "\n",
            "*********************************************************************************\n",
            "\n",
            "\n",
            "The Score of minkowski with k value of 6 is: \n",
            "\n",
            "__________________________________________________________________________________\n",
            "\n",
            "              precision    recall  f1-score   support\n",
            "\n",
            "         0.0       0.53      0.55      0.54       217\n",
            "         1.0       0.44      0.41      0.42       183\n",
            "\n",
            "    accuracy                           0.49       400\n",
            "   macro avg       0.48      0.48      0.48       400\n",
            "weighted avg       0.49      0.49      0.49       400\n",
            "\n",
            "[[120  97]\n",
            " [108  75]]\n",
            "\n",
            "__________________________________________________________________________________\n",
            "\n",
            "Accuracy score:\n",
            "\n",
            "0.4875\n",
            "None\n",
            "\n",
            "**********************************************************************************\n",
            "\n",
            "\n",
            "\n",
            "\n",
            "*********************************************************************************\n",
            "\n",
            "\n",
            "The Score of minkowski with k value of 7 is: \n",
            "\n",
            "__________________________________________________________________________________\n",
            "\n",
            "              precision    recall  f1-score   support\n",
            "\n",
            "         0.0       0.54      0.41      0.46       217\n",
            "         1.0       0.46      0.60      0.52       183\n",
            "\n",
            "    accuracy                           0.49       400\n",
            "   macro avg       0.50      0.50      0.49       400\n",
            "weighted avg       0.50      0.49      0.49       400\n",
            "\n",
            "[[ 88 129]\n",
            " [ 74 109]]\n",
            "\n",
            "__________________________________________________________________________________\n",
            "\n",
            "Accuracy score:\n",
            "\n",
            "0.4925\n",
            "None\n",
            "\n",
            "**********************************************************************************\n",
            "\n",
            "\n",
            "\n",
            "\n",
            "*********************************************************************************\n",
            "\n",
            "\n",
            "The Score of euclidean with k value of 2 is: \n",
            "\n",
            "__________________________________________________________________________________\n",
            "\n"
          ]
        },
        {
          "name": "stderr",
          "output_type": "stream",
          "text": [
            "/home/rajesh/.local/lib/python3.10/site-packages/sklearn/neighbors/_classification.py:200: DataConversionWarning: A column-vector y was passed when a 1d array was expected. Please change the shape of y to (n_samples,), for example using ravel().\n",
            "  return self._fit(X, y)\n",
            "/home/rajesh/.local/lib/python3.10/site-packages/sklearn/neighbors/_classification.py:200: DataConversionWarning: A column-vector y was passed when a 1d array was expected. Please change the shape of y to (n_samples,), for example using ravel().\n",
            "  return self._fit(X, y)\n",
            "/home/rajesh/.local/lib/python3.10/site-packages/sklearn/neighbors/_classification.py:200: DataConversionWarning: A column-vector y was passed when a 1d array was expected. Please change the shape of y to (n_samples,), for example using ravel().\n",
            "  return self._fit(X, y)\n",
            "/home/rajesh/.local/lib/python3.10/site-packages/sklearn/neighbors/_classification.py:200: DataConversionWarning: A column-vector y was passed when a 1d array was expected. Please change the shape of y to (n_samples,), for example using ravel().\n",
            "  return self._fit(X, y)\n",
            "/home/rajesh/.local/lib/python3.10/site-packages/sklearn/neighbors/_classification.py:200: DataConversionWarning: A column-vector y was passed when a 1d array was expected. Please change the shape of y to (n_samples,), for example using ravel().\n",
            "  return self._fit(X, y)\n",
            "/home/rajesh/.local/lib/python3.10/site-packages/sklearn/neighbors/_classification.py:200: DataConversionWarning: A column-vector y was passed when a 1d array was expected. Please change the shape of y to (n_samples,), for example using ravel().\n",
            "  return self._fit(X, y)\n",
            "/home/rajesh/.local/lib/python3.10/site-packages/sklearn/neighbors/_classification.py:200: DataConversionWarning: A column-vector y was passed when a 1d array was expected. Please change the shape of y to (n_samples,), for example using ravel().\n",
            "  return self._fit(X, y)\n"
          ]
        },
        {
          "name": "stdout",
          "output_type": "stream",
          "text": [
            "              precision    recall  f1-score   support\n",
            "\n",
            "         0.0       0.54      0.68      0.60       217\n",
            "         1.0       0.45      0.32      0.37       183\n",
            "\n",
            "    accuracy                           0.51       400\n",
            "   macro avg       0.50      0.50      0.49       400\n",
            "weighted avg       0.50      0.51      0.50       400\n",
            "\n",
            "[[147  70]\n",
            " [125  58]]\n",
            "\n",
            "__________________________________________________________________________________\n",
            "\n",
            "Accuracy score:\n",
            "\n",
            "0.5125\n",
            "None\n",
            "\n",
            "**********************************************************************************\n",
            "\n",
            "\n",
            "\n",
            "\n",
            "*********************************************************************************\n",
            "\n",
            "\n",
            "The Score of euclidean with k value of 3 is: \n",
            "\n",
            "__________________________________________________________________________________\n",
            "\n",
            "              precision    recall  f1-score   support\n",
            "\n",
            "         0.0       0.56      0.43      0.49       217\n",
            "         1.0       0.47      0.60      0.53       183\n",
            "\n",
            "    accuracy                           0.51       400\n",
            "   macro avg       0.51      0.51      0.51       400\n",
            "weighted avg       0.52      0.51      0.51       400\n",
            "\n",
            "[[ 94 123]\n",
            " [ 74 109]]\n",
            "\n",
            "__________________________________________________________________________________\n",
            "\n",
            "Accuracy score:\n",
            "\n",
            "0.5075\n",
            "None\n",
            "\n",
            "**********************************************************************************\n",
            "\n",
            "\n",
            "\n",
            "\n",
            "*********************************************************************************\n",
            "\n",
            "\n",
            "The Score of euclidean with k value of 4 is: \n",
            "\n",
            "__________________________________________________________________________________\n",
            "\n",
            "              precision    recall  f1-score   support\n",
            "\n",
            "         0.0       0.56      0.65      0.60       217\n",
            "         1.0       0.48      0.39      0.43       183\n",
            "\n",
            "    accuracy                           0.53       400\n",
            "   macro avg       0.52      0.52      0.51       400\n",
            "weighted avg       0.52      0.53      0.52       400\n",
            "\n",
            "[[140  77]\n",
            " [112  71]]\n",
            "\n",
            "__________________________________________________________________________________\n",
            "\n",
            "Accuracy score:\n",
            "\n",
            "0.5275\n",
            "None\n",
            "\n",
            "**********************************************************************************\n",
            "\n",
            "\n",
            "\n",
            "\n",
            "*********************************************************************************\n",
            "\n",
            "\n",
            "The Score of euclidean with k value of 5 is: \n",
            "\n",
            "__________________________________________________________________________________\n",
            "\n",
            "              precision    recall  f1-score   support\n",
            "\n",
            "         0.0       0.53      0.41      0.46       217\n",
            "         1.0       0.45      0.57      0.50       183\n",
            "\n",
            "    accuracy                           0.48       400\n",
            "   macro avg       0.49      0.49      0.48       400\n",
            "weighted avg       0.49      0.48      0.48       400\n",
            "\n",
            "[[ 88 129]\n",
            " [ 79 104]]\n",
            "\n",
            "__________________________________________________________________________________\n",
            "\n",
            "Accuracy score:\n",
            "\n",
            "0.48\n",
            "None\n",
            "\n",
            "**********************************************************************************\n",
            "\n",
            "\n",
            "\n",
            "\n",
            "*********************************************************************************\n",
            "\n",
            "\n",
            "The Score of euclidean with k value of 6 is: \n",
            "\n",
            "__________________________________________________________________________________\n",
            "\n",
            "              precision    recall  f1-score   support\n",
            "\n",
            "         0.0       0.53      0.55      0.54       217\n",
            "         1.0       0.44      0.41      0.42       183\n",
            "\n",
            "    accuracy                           0.49       400\n",
            "   macro avg       0.48      0.48      0.48       400\n",
            "weighted avg       0.49      0.49      0.49       400\n",
            "\n",
            "[[120  97]\n",
            " [108  75]]\n",
            "\n",
            "__________________________________________________________________________________\n",
            "\n",
            "Accuracy score:\n",
            "\n",
            "0.4875\n",
            "None\n",
            "\n",
            "**********************************************************************************\n",
            "\n",
            "\n",
            "\n",
            "\n",
            "*********************************************************************************\n",
            "\n",
            "\n",
            "The Score of euclidean with k value of 7 is: \n",
            "\n",
            "__________________________________________________________________________________\n",
            "\n"
          ]
        },
        {
          "name": "stderr",
          "output_type": "stream",
          "text": [
            "/home/rajesh/.local/lib/python3.10/site-packages/sklearn/neighbors/_classification.py:200: DataConversionWarning: A column-vector y was passed when a 1d array was expected. Please change the shape of y to (n_samples,), for example using ravel().\n",
            "  return self._fit(X, y)\n",
            "/home/rajesh/.local/lib/python3.10/site-packages/sklearn/neighbors/_classification.py:200: DataConversionWarning: A column-vector y was passed when a 1d array was expected. Please change the shape of y to (n_samples,), for example using ravel().\n",
            "  return self._fit(X, y)\n",
            "/home/rajesh/.local/lib/python3.10/site-packages/sklearn/neighbors/_classification.py:200: DataConversionWarning: A column-vector y was passed when a 1d array was expected. Please change the shape of y to (n_samples,), for example using ravel().\n",
            "  return self._fit(X, y)\n",
            "/home/rajesh/.local/lib/python3.10/site-packages/sklearn/neighbors/_classification.py:200: DataConversionWarning: A column-vector y was passed when a 1d array was expected. Please change the shape of y to (n_samples,), for example using ravel().\n",
            "  return self._fit(X, y)\n",
            "/home/rajesh/.local/lib/python3.10/site-packages/sklearn/neighbors/_classification.py:200: DataConversionWarning: A column-vector y was passed when a 1d array was expected. Please change the shape of y to (n_samples,), for example using ravel().\n",
            "  return self._fit(X, y)\n"
          ]
        },
        {
          "name": "stdout",
          "output_type": "stream",
          "text": [
            "              precision    recall  f1-score   support\n",
            "\n",
            "         0.0       0.54      0.41      0.46       217\n",
            "         1.0       0.46      0.60      0.52       183\n",
            "\n",
            "    accuracy                           0.49       400\n",
            "   macro avg       0.50      0.50      0.49       400\n",
            "weighted avg       0.50      0.49      0.49       400\n",
            "\n",
            "[[ 88 129]\n",
            " [ 74 109]]\n",
            "\n",
            "__________________________________________________________________________________\n",
            "\n",
            "Accuracy score:\n",
            "\n",
            "0.4925\n",
            "None\n",
            "\n",
            "**********************************************************************************\n",
            "\n",
            "\n",
            "\n",
            "\n",
            "*********************************************************************************\n",
            "\n",
            "\n",
            "The Score of manhattan with k value of 2 is: \n",
            "\n",
            "__________________________________________________________________________________\n",
            "\n",
            "              precision    recall  f1-score   support\n",
            "\n",
            "         0.0       0.55      0.71      0.62       217\n",
            "         1.0       0.48      0.32      0.38       183\n",
            "\n",
            "    accuracy                           0.53       400\n",
            "   macro avg       0.52      0.51      0.50       400\n",
            "weighted avg       0.52      0.53      0.51       400\n",
            "\n",
            "[[154  63]\n",
            " [125  58]]\n",
            "\n",
            "__________________________________________________________________________________\n",
            "\n",
            "Accuracy score:\n",
            "\n",
            "0.53\n",
            "None\n",
            "\n",
            "**********************************************************************************\n",
            "\n",
            "\n",
            "\n",
            "\n",
            "*********************************************************************************\n",
            "\n",
            "\n",
            "The Score of manhattan with k value of 3 is: \n",
            "\n",
            "__________________________________________________________________________________\n",
            "\n",
            "              precision    recall  f1-score   support\n",
            "\n",
            "         0.0       0.53      0.40      0.46       217\n",
            "         1.0       0.45      0.58      0.51       183\n",
            "\n",
            "    accuracy                           0.48       400\n",
            "   macro avg       0.49      0.49      0.48       400\n",
            "weighted avg       0.50      0.48      0.48       400\n",
            "\n",
            "[[ 87 130]\n",
            " [ 76 107]]\n",
            "\n",
            "__________________________________________________________________________________\n",
            "\n",
            "Accuracy score:\n",
            "\n",
            "0.485\n",
            "None\n",
            "\n",
            "**********************************************************************************\n",
            "\n",
            "\n",
            "\n",
            "\n",
            "*********************************************************************************\n",
            "\n",
            "\n",
            "The Score of manhattan with k value of 4 is: \n",
            "\n",
            "__________________________________________________________________________________\n",
            "\n",
            "              precision    recall  f1-score   support\n",
            "\n",
            "         0.0       0.54      0.64      0.59       217\n",
            "         1.0       0.46      0.36      0.40       183\n",
            "\n",
            "    accuracy                           0.51       400\n",
            "   macro avg       0.50      0.50      0.50       400\n",
            "weighted avg       0.50      0.51      0.50       400\n",
            "\n",
            "[[139  78]\n",
            " [117  66]]\n",
            "\n",
            "__________________________________________________________________________________\n",
            "\n",
            "Accuracy score:\n",
            "\n",
            "0.5125\n",
            "None\n",
            "\n",
            "**********************************************************************************\n",
            "\n",
            "\n",
            "\n",
            "\n",
            "*********************************************************************************\n",
            "\n",
            "\n",
            "The Score of manhattan with k value of 5 is: \n",
            "\n",
            "__________________________________________________________________________________\n",
            "\n",
            "              precision    recall  f1-score   support\n",
            "\n",
            "         0.0       0.53      0.42      0.47       217\n",
            "         1.0       0.45      0.56      0.50       183\n",
            "\n",
            "    accuracy                           0.48       400\n",
            "   macro avg       0.49      0.49      0.48       400\n",
            "weighted avg       0.49      0.48      0.48       400\n",
            "\n",
            "[[ 91 126]\n",
            " [ 81 102]]\n",
            "\n",
            "__________________________________________________________________________________\n",
            "\n",
            "Accuracy score:\n",
            "\n",
            "0.4825\n",
            "None\n",
            "\n",
            "**********************************************************************************\n",
            "\n",
            "\n",
            "\n",
            "\n",
            "*********************************************************************************\n",
            "\n",
            "\n",
            "The Score of manhattan with k value of 6 is: \n",
            "\n",
            "__________________________________________________________________________________\n",
            "\n",
            "              precision    recall  f1-score   support\n",
            "\n",
            "         0.0       0.53      0.58      0.56       217\n",
            "         1.0       0.45      0.40      0.42       183\n",
            "\n",
            "    accuracy                           0.50       400\n",
            "   macro avg       0.49      0.49      0.49       400\n",
            "weighted avg       0.49      0.50      0.49       400\n",
            "\n",
            "[[126  91]\n",
            " [110  73]]\n",
            "\n",
            "__________________________________________________________________________________\n",
            "\n",
            "Accuracy score:\n",
            "\n",
            "0.4975\n",
            "None\n",
            "\n",
            "**********************************************************************************\n",
            "\n",
            "\n",
            "\n",
            "\n",
            "*********************************************************************************\n",
            "\n",
            "\n",
            "The Score of manhattan with k value of 7 is: \n",
            "\n",
            "__________________________________________________________________________________\n",
            "\n",
            "              precision    recall  f1-score   support\n",
            "\n",
            "         0.0       0.50      0.40      0.44       217\n",
            "         1.0       0.42      0.52      0.47       183\n",
            "\n",
            "    accuracy                           0.46       400\n",
            "   macro avg       0.46      0.46      0.45       400\n",
            "weighted avg       0.46      0.46      0.45       400\n",
            "\n",
            "[[ 86 131]\n",
            " [ 87  96]]\n",
            "\n",
            "__________________________________________________________________________________\n",
            "\n",
            "Accuracy score:\n",
            "\n",
            "0.455\n",
            "None\n",
            "\n",
            "**********************************************************************************\n",
            "\n",
            "\n",
            "\n"
          ]
        },
        {
          "name": "stderr",
          "output_type": "stream",
          "text": [
            "/home/rajesh/.local/lib/python3.10/site-packages/sklearn/neighbors/_classification.py:200: DataConversionWarning: A column-vector y was passed when a 1d array was expected. Please change the shape of y to (n_samples,), for example using ravel().\n",
            "  return self._fit(X, y)\n",
            "/home/rajesh/.local/lib/python3.10/site-packages/sklearn/neighbors/_classification.py:200: DataConversionWarning: A column-vector y was passed when a 1d array was expected. Please change the shape of y to (n_samples,), for example using ravel().\n",
            "  return self._fit(X, y)\n",
            "/home/rajesh/.local/lib/python3.10/site-packages/sklearn/neighbors/_classification.py:200: DataConversionWarning: A column-vector y was passed when a 1d array was expected. Please change the shape of y to (n_samples,), for example using ravel().\n",
            "  return self._fit(X, y)\n",
            "/home/rajesh/.local/lib/python3.10/site-packages/sklearn/neighbors/_classification.py:200: DataConversionWarning: A column-vector y was passed when a 1d array was expected. Please change the shape of y to (n_samples,), for example using ravel().\n",
            "  return self._fit(X, y)\n",
            "/home/rajesh/.local/lib/python3.10/site-packages/sklearn/neighbors/_classification.py:200: DataConversionWarning: A column-vector y was passed when a 1d array was expected. Please change the shape of y to (n_samples,), for example using ravel().\n",
            "  return self._fit(X, y)\n",
            "/home/rajesh/.local/lib/python3.10/site-packages/sklearn/neighbors/_classification.py:200: DataConversionWarning: A column-vector y was passed when a 1d array was expected. Please change the shape of y to (n_samples,), for example using ravel().\n",
            "  return self._fit(X, y)\n"
          ]
        }
      ],
      "source": [
        "for met in methods_met:\n",
        "    for i in range(2, 8):\n",
        "        print('\\n*********************************************************************************\\n')\n",
        "        print(\"\\nThe Score of \"+met+\" with k value of \"+str(i)+\" is: \")\n",
        "        print('\\n__________________________________________________________________________________\\n')\n",
        "        print(confusionMatrix(i, met))\n",
        "        print('\\n**********************************************************************************\\n\\n\\n')"
      ]
    },
    {
      "cell_type": "code",
      "execution_count": null,
      "metadata": {
        "colab": {
          "base_uri": "https://localhost:8080/"
        },
        "id": "2eGj6aqi7DVT",
        "outputId": "f3d9e1d8-b386-49e8-828d-0e27214eccea"
      },
      "outputs": [
        {
          "name": "stderr",
          "output_type": "stream",
          "text": [
            "/home/rajesh/.local/lib/python3.10/site-packages/sklearn/neighbors/_classification.py:200: DataConversionWarning: A column-vector y was passed when a 1d array was expected. Please change the shape of y to (n_samples,), for example using ravel().\n",
            "  return self._fit(X, y)\n"
          ]
        },
        {
          "name": "stdout",
          "output_type": "stream",
          "text": [
            "              precision    recall  f1-score   support\n",
            "\n",
            "         0.0       0.54      0.68      0.60       217\n",
            "         1.0       0.45      0.32      0.37       183\n",
            "\n",
            "    accuracy                           0.51       400\n",
            "   macro avg       0.50      0.50      0.49       400\n",
            "weighted avg       0.50      0.51      0.50       400\n",
            "\n",
            "[[147  70]\n",
            " [125  58]]\n",
            "\n",
            "__________________________________________________________________________________\n",
            "\n",
            "Accuracy score:\n",
            "\n",
            "0.5125\n"
          ]
        }
      ],
      "source": [
        "confusionMatrix(2, 'minkowski')"
      ]
    },
    {
      "cell_type": "code",
      "execution_count": null,
      "metadata": {
        "colab": {
          "base_uri": "https://localhost:8080/"
        },
        "id": "BjI-qnsX7RD0",
        "outputId": "f9ef4bc8-113b-4d67-bf28-9c66d43268bc"
      },
      "outputs": [
        {
          "name": "stdout",
          "output_type": "stream",
          "text": [
            "              precision    recall  f1-score   support\n",
            "\n",
            "         0.0       0.56      0.43      0.49       217\n",
            "         1.0       0.47      0.60      0.53       183\n",
            "\n",
            "    accuracy                           0.51       400\n",
            "   macro avg       0.51      0.51      0.51       400\n",
            "weighted avg       0.52      0.51      0.51       400\n",
            "\n",
            "[[ 94 123]\n",
            " [ 74 109]]\n",
            "\n",
            "__________________________________________________________________________________\n",
            "\n",
            "Accuracy score:\n",
            "\n",
            "0.5075\n"
          ]
        },
        {
          "name": "stderr",
          "output_type": "stream",
          "text": [
            "/home/rajesh/.local/lib/python3.10/site-packages/sklearn/neighbors/_classification.py:200: DataConversionWarning: A column-vector y was passed when a 1d array was expected. Please change the shape of y to (n_samples,), for example using ravel().\n",
            "  return self._fit(X, y)\n"
          ]
        }
      ],
      "source": [
        "confusionMatrix(3, 'minkowski')"
      ]
    },
    {
      "cell_type": "code",
      "execution_count": null,
      "metadata": {
        "colab": {
          "base_uri": "https://localhost:8080/"
        },
        "id": "e3MXQ_YCAgWE",
        "outputId": "5def3db1-5223-451f-b414-9d171384c4e9"
      },
      "outputs": [
        {
          "name": "stdout",
          "output_type": "stream",
          "text": [
            "              precision    recall  f1-score   support\n",
            "\n",
            "         0.0       0.56      0.65      0.60       217\n",
            "         1.0       0.48      0.39      0.43       183\n",
            "\n",
            "    accuracy                           0.53       400\n",
            "   macro avg       0.52      0.52      0.51       400\n",
            "weighted avg       0.52      0.53      0.52       400\n",
            "\n",
            "[[140  77]\n",
            " [112  71]]\n",
            "\n",
            "__________________________________________________________________________________\n",
            "\n",
            "Accuracy score:\n",
            "\n",
            "0.5275\n"
          ]
        },
        {
          "name": "stderr",
          "output_type": "stream",
          "text": [
            "/home/rajesh/.local/lib/python3.10/site-packages/sklearn/neighbors/_classification.py:200: DataConversionWarning: A column-vector y was passed when a 1d array was expected. Please change the shape of y to (n_samples,), for example using ravel().\n",
            "  return self._fit(X, y)\n"
          ]
        }
      ],
      "source": [
        "confusionMatrix(4, 'minkowski')"
      ]
    },
    {
      "cell_type": "code",
      "execution_count": null,
      "metadata": {
        "colab": {
          "base_uri": "https://localhost:8080/"
        },
        "id": "vyjsLbi-Ahts",
        "outputId": "3fa301bb-0486-4cba-8cc2-4d0fd14dd991"
      },
      "outputs": [
        {
          "name": "stderr",
          "output_type": "stream",
          "text": [
            "/home/rajesh/.local/lib/python3.10/site-packages/sklearn/neighbors/_classification.py:200: DataConversionWarning: A column-vector y was passed when a 1d array was expected. Please change the shape of y to (n_samples,), for example using ravel().\n",
            "  return self._fit(X, y)\n"
          ]
        },
        {
          "name": "stdout",
          "output_type": "stream",
          "text": [
            "              precision    recall  f1-score   support\n",
            "\n",
            "         0.0       0.53      0.41      0.46       217\n",
            "         1.0       0.45      0.57      0.50       183\n",
            "\n",
            "    accuracy                           0.48       400\n",
            "   macro avg       0.49      0.49      0.48       400\n",
            "weighted avg       0.49      0.48      0.48       400\n",
            "\n",
            "[[ 88 129]\n",
            " [ 79 104]]\n",
            "\n",
            "__________________________________________________________________________________\n",
            "\n",
            "Accuracy score:\n",
            "\n",
            "0.48\n"
          ]
        }
      ],
      "source": [
        "confusionMatrix(5, 'minkowski')"
      ]
    },
    {
      "cell_type": "code",
      "execution_count": null,
      "metadata": {
        "colab": {
          "base_uri": "https://localhost:8080/"
        },
        "id": "Eivz6ADpAjmU",
        "outputId": "be78a79d-ded0-4c76-bad5-7d229c81c508"
      },
      "outputs": [
        {
          "name": "stdout",
          "output_type": "stream",
          "text": [
            "              precision    recall  f1-score   support\n",
            "\n",
            "         0.0       0.53      0.55      0.54       217\n",
            "         1.0       0.44      0.41      0.42       183\n",
            "\n",
            "    accuracy                           0.49       400\n",
            "   macro avg       0.48      0.48      0.48       400\n",
            "weighted avg       0.49      0.49      0.49       400\n",
            "\n",
            "[[120  97]\n",
            " [108  75]]\n",
            "\n",
            "__________________________________________________________________________________\n",
            "\n",
            "Accuracy score:\n",
            "\n",
            "0.4875\n"
          ]
        },
        {
          "name": "stderr",
          "output_type": "stream",
          "text": [
            "/home/rajesh/.local/lib/python3.10/site-packages/sklearn/neighbors/_classification.py:200: DataConversionWarning: A column-vector y was passed when a 1d array was expected. Please change the shape of y to (n_samples,), for example using ravel().\n",
            "  return self._fit(X, y)\n"
          ]
        }
      ],
      "source": [
        "confusionMatrix(6, 'minkowski')"
      ]
    },
    {
      "cell_type": "code",
      "execution_count": null,
      "metadata": {
        "id": "eWslJfNxAnH8"
      },
      "outputs": [],
      "source": [
        "#from sklearn.naive_bayes import GaussianNB\n",
        "\n",
        "# instantiate the model\n",
        "#gnb = GaussianNB()\n",
        "\n",
        "# fit the model\n",
        "#gnb.fit(train(x_cols), train(y_col))"
      ]
    },
    {
      "cell_type": "code",
      "execution_count": null,
      "metadata": {
        "id": "2kFlkjG0Eg0B"
      },
      "outputs": [],
      "source": [
        "def naiv():\n",
        "    # instantiate the model\n",
        "    gnb = GaussianNB()\n",
        "    numRows = trans_formed_min_max.shape[0]\n",
        "    trainSize = round(numRows * 0.6) \n",
        "    # divide train and test dataset\n",
        "    train = trans_formed_min_max.iloc[:trainSize, : ]\n",
        "    test = trans_formed_min_max.iloc[trainSize : , :]\n",
        "    x_cols = [\"City\", \"Branch\",\"Gender\" , \"Product line\", \"Unit price\", \"Quantity\", \"Tax 5%\", \"Total\", \"Payment\", 'cogs', 'gross income', 'Rating']\n",
        "    y_col = [\"Customer type\"]\n",
        "    # fit the model\n",
        "    gnb.fit(train[x_cols], train[y_col])\n",
        "    y_pred = gnb.predict(test[x_cols])\n",
        "\n",
        "    print(y_pred)\n",
        "  \n",
        "    print('\\n\\nModel accuracy score: {0:0.4f}\\n\\n'. format(accuracy_score(test[y_col], y_pred)))\n"
      ]
    },
    {
      "cell_type": "code",
      "execution_count": null,
      "metadata": {
        "colab": {
          "base_uri": "https://localhost:8080/"
        },
        "id": "8ixg6vtPFLQh",
        "outputId": "3c2fbbbd-0447-482c-d3ae-c425da8b38dd"
      },
      "outputs": [
        {
          "name": "stdout",
          "output_type": "stream",
          "text": [
            "[1. 1. 0. 1. 1. 1. 1. 1. 1. 1. 1. 0. 1. 1. 0. 1. 1. 1. 0. 1. 1. 1. 0. 0.\n",
            " 1. 1. 1. 0. 1. 1. 0. 1. 1. 1. 1. 0. 1. 1. 1. 1. 1. 0. 1. 0. 1. 1. 1. 1.\n",
            " 1. 1. 1. 0. 0. 1. 1. 1. 0. 1. 1. 1. 1. 1. 0. 0. 1. 1. 1. 1. 1. 1. 1. 1.\n",
            " 1. 0. 0. 1. 0. 1. 0. 1. 1. 1. 1. 1. 1. 1. 0. 0. 1. 1. 0. 1. 0. 0. 0. 0.\n",
            " 1. 1. 0. 0. 0. 1. 0. 0. 0. 0. 1. 1. 1. 1. 1. 1. 0. 1. 0. 1. 1. 1. 1. 1.\n",
            " 1. 0. 1. 1. 1. 1. 1. 0. 1. 0. 1. 1. 1. 0. 1. 0. 0. 0. 0. 0. 1. 1. 1. 1.\n",
            " 0. 1. 0. 1. 0. 0. 1. 1. 1. 1. 1. 0. 1. 0. 1. 1. 0. 0. 0. 1. 1. 0. 0. 1.\n",
            " 0. 1. 1. 0. 1. 1. 1. 1. 0. 1. 1. 0. 1. 1. 1. 0. 1. 0. 1. 0. 1. 1. 1. 1.\n",
            " 0. 0. 1. 1. 1. 1. 0. 1. 1. 1. 1. 1. 0. 1. 0. 1. 1. 0. 1. 0. 0. 1. 1. 1.\n",
            " 1. 1. 0. 1. 1. 1. 1. 1. 0. 1. 0. 1. 0. 0. 1. 1. 1. 1. 1. 1. 1. 1. 0. 1.\n",
            " 1. 1. 1. 1. 1. 1. 1. 1. 0. 0. 1. 1. 1. 0. 0. 1. 1. 1. 1. 1. 1. 1. 0. 0.\n",
            " 1. 1. 0. 1. 1. 1. 1. 1. 0. 0. 1. 1. 1. 1. 0. 1. 1. 1. 0. 1. 1. 1. 1. 0.\n",
            " 1. 0. 0. 0. 0. 1. 0. 0. 1. 1. 0. 1. 0. 1. 1. 1. 1. 1. 0. 0. 1. 0. 1. 1.\n",
            " 0. 1. 1. 1. 1. 1. 1. 1. 0. 1. 1. 0. 1. 1. 1. 0. 0. 1. 0. 0. 0. 1. 0. 1.\n",
            " 0. 0. 1. 1. 1. 0. 1. 1. 1. 0. 1. 1. 1. 1. 1. 1. 1. 1. 1. 1. 1. 1. 1. 0.\n",
            " 1. 1. 1. 1. 1. 1. 1. 1. 1. 0. 0. 1. 0. 1. 1. 1. 1. 1. 1. 1. 1. 1. 0. 0.\n",
            " 0. 1. 1. 0. 0. 0. 1. 0. 1. 1. 1. 1. 0. 1. 1. 0.]\n",
            "\n",
            "\n",
            "Model accuracy score: 0.4825\n",
            "\n",
            "\n"
          ]
        },
        {
          "name": "stderr",
          "output_type": "stream",
          "text": [
            "/home/rajesh/.local/lib/python3.10/site-packages/sklearn/utils/validation.py:1111: DataConversionWarning: A column-vector y was passed when a 1d array was expected. Please change the shape of y to (n_samples, ), for example using ravel().\n",
            "  y = column_or_1d(y, warn=True)\n"
          ]
        }
      ],
      "source": [
        "naiv()"
      ]
    },
    {
      "cell_type": "code",
      "execution_count": null,
      "metadata": {
        "id": "xgq4BGDXFNiG"
      },
      "outputs": [],
      "source": [
        "# K means"
      ]
    },
    {
      "cell_type": "code",
      "execution_count": null,
      "metadata": {
        "id": "DPThkE7ybDKH"
      },
      "outputs": [],
      "source": [
        "import matplotlib.pyplot as plt\n",
        "#from kneed import KneeLocator\n",
        "from sklearn.datasets import make_blobs\n",
        "from sklearn.cluster import KMeans\n",
        "from sklearn.metrics import silhouette_score\n",
        "from sklearn.preprocessing import StandardScaler"
      ]
    },
    {
      "cell_type": "code",
      "execution_count": null,
      "metadata": {
        "id": "YtQTs1Z-bDKH"
      },
      "outputs": [],
      "source": [
        "def kMeanFun(col1, col2):\n",
        "    kmeans = KMeans(init=\"random\", n_clusters=3, n_init=10, max_iter=300, random_state=42)\n",
        "    numRows = trans_formed_min_max.shape[0]\n",
        "    trainSize = round(numRows * 0.8) \n",
        "    # divide train and test dataset\n",
        "    train = trans_formed_min_max.iloc[:trainSize, : ]\n",
        "    test = trans_formed_min_max.iloc[trainSize : , :]\n",
        "    x_cols = [col1]\n",
        "    y_col = [col2]\n",
        "    kmeans.fit(train[x_cols], train[y_col])\n",
        "    print(\"The Lowest SSE Value is:\\n\\t\"+str(kmeans.inertia_))\n",
        "    print(\"\\n----------------------------------------------------------\\n\")\n",
        "    print(\"\\n\\nThe Location of the Centroid:\\n\\t\"+str(kmeans.cluster_centers_))\n",
        "    print(\"\\n----------------------------------------------------------\\n\")\n",
        "    print(\"\\nIterations required to converge:\\n\\t\"+str(kmeans.n_iter_))\n",
        "    print(\"\\n----------------------------------------------------------\\n\")\n",
        "    print(\"\\nLabels:\\n\\t\"+str(kmeans.labels_[:5]))\n",
        "    print(\"\\n----------------------------------------------------------\\n\")   \n",
        "    print(\"Ploting of the kMeans\")\n",
        "    sse1 = []\n",
        "    kmeans_kwargs = {\"init\": \"random\", \"n_init\": 10, \"max_iter\": 300, \"random_state\": 42,}\n",
        "    for k in range(1, 11):\n",
        "        kmeans = KMeans(n_clusters=k, **kmeans_kwargs)\n",
        "        kmeans.fit(trans_formed_min_max)\n",
        "        sse1.append(kmeans.inertia_)\n",
        "    plt.style.use(\"fivethirtyeight\")\n",
        "    plt.plot(sse)\n",
        "    plt.xticks(range(1, 11))\n",
        "    plt.xlabel(\"Number of Clusters\")\n",
        "    plt.ylabel(\"SSE\")\n",
        "    plt.show()\n",
        "    print(\"\\n----------------------------------------------------------\\n\")\n",
        "    print(\"Ploting of scatter plot\")\n",
        "    plt.scatter(trans_formed_min_max[col2], trans_formed_min_max[col1], c =\"blue\")\n",
        "    # To show the plot\n",
        "    plt.show()\n",
        "    "
      ]
    },
    {
      "cell_type": "code",
      "execution_count": null,
      "metadata": {
        "id": "StLi_s76bDKH",
        "outputId": "31c04892-b459-494b-8ef8-16c9e98e67d8"
      },
      "outputs": [
        {
          "name": "stdout",
          "output_type": "stream",
          "text": [
            "The Lowest SSE Value is:\n",
            "\t7.621655505611761\n",
            "\n",
            "----------------------------------------------------------\n",
            "\n",
            "\n",
            "\n",
            "The Location of the Centroid:\n",
            "\t[[0.50995289]\n",
            " [0.16957071]\n",
            " [0.84044796]]\n",
            "\n",
            "----------------------------------------------------------\n",
            "\n",
            "\n",
            "Iterations required to converge:\n",
            "\t5\n",
            "\n",
            "----------------------------------------------------------\n",
            "\n",
            "\n",
            "Labels:\n",
            "\t[2 2 0 2 1]\n",
            "\n",
            "----------------------------------------------------------\n",
            "\n",
            "Ploting of the kMeans\n"
          ]
        },
        {
          "data": {
            "image/png": "[encoded data removed]",
            "text/plain": [
              "<Figure size 432x288 with 1 Axes>"
            ]
          },
          "metadata": {},
          "output_type": "display_data"
        },
        {
          "name": "stdout",
          "output_type": "stream",
          "text": [
            "\n",
            "----------------------------------------------------------\n",
            "\n",
            "Ploting of scatter plot\n"
          ]
        },
        {
          "data": {
            "image/png": "[encoded data removed]",
            "text/plain": [
              "<Figure size 432x288 with 1 Axes>"
            ]
          },
          "metadata": {},
          "output_type": "display_data"
        }
      ],
      "source": [
        "# kmeans for Rating and City\n",
        "kMeanFun('Rating', 'City')"
      ]
    },
    {
      "cell_type": "code",
      "execution_count": null,
      "metadata": {
        "id": "iNEwsqjpbDKI",
        "outputId": "35ba7c64-0025-4274-b4a4-c79ed34f85fc"
      },
      "outputs": [
        {
          "data": {
            "text/html": [
              "<div>\n",
              "<style scoped>\n",
              "    .dataframe tbody tr th:only-of-type {\n",
              "        vertical-align: middle;\n",
              "    }\n",
              "\n",
              "    .dataframe tbody tr th {\n",
              "        vertical-align: top;\n",
              "    }\n",
              "\n",
              "    .dataframe thead th {\n",
              "        text-align: right;\n",
              "    }\n",
              "</style>\n",
              "<table border=\"1\" class=\"dataframe\">\n",
              "  <thead>\n",
              "    <tr style=\"text-align: right;\">\n",
              "      <th></th>\n",
              "      <th>Invoice ID</th>\n",
              "      <th>Branch</th>\n",
              "      <th>City</th>\n",
              "      <th>Customer type</th>\n",
              "      <th>Gender</th>\n",
              "      <th>Product line</th>\n",
              "      <th>Unit price</th>\n",
              "      <th>Quantity</th>\n",
              "      <th>Tax 5%</th>\n",
              "      <th>Total</th>\n",
              "      <th>Date</th>\n",
              "      <th>Time</th>\n",
              "      <th>Payment</th>\n",
              "      <th>cogs</th>\n",
              "      <th>gross margin percentage</th>\n",
              "      <th>gross income</th>\n",
              "      <th>Rating</th>\n",
              "    </tr>\n",
              "  </thead>\n",
              "  <tbody>\n",
              "    <tr>\n",
              "      <th>0</th>\n",
              "      <td>750-67-8428</td>\n",
              "      <td>0</td>\n",
              "      <td>0</td>\n",
              "      <td>0</td>\n",
              "      <td>0</td>\n",
              "      <td>0</td>\n",
              "      <td>74.69</td>\n",
              "      <td>7</td>\n",
              "      <td>26.1415</td>\n",
              "      <td>548.9715</td>\n",
              "      <td>1/5/2019</td>\n",
              "      <td>13:08</td>\n",
              "      <td>0</td>\n",
              "      <td>522.83</td>\n",
              "      <td>4.761905</td>\n",
              "      <td>26.1415</td>\n",
              "      <td>9.1</td>\n",
              "    </tr>\n",
              "    <tr>\n",
              "      <th>1</th>\n",
              "      <td>226-31-3081</td>\n",
              "      <td>2</td>\n",
              "      <td>1</td>\n",
              "      <td>1</td>\n",
              "      <td>0</td>\n",
              "      <td>1</td>\n",
              "      <td>15.28</td>\n",
              "      <td>5</td>\n",
              "      <td>3.8200</td>\n",
              "      <td>80.2200</td>\n",
              "      <td>3/8/2019</td>\n",
              "      <td>10:29</td>\n",
              "      <td>1</td>\n",
              "      <td>76.40</td>\n",
              "      <td>4.761905</td>\n",
              "      <td>3.8200</td>\n",
              "      <td>9.6</td>\n",
              "    </tr>\n",
              "    <tr>\n",
              "      <th>2</th>\n",
              "      <td>631-41-3108</td>\n",
              "      <td>0</td>\n",
              "      <td>0</td>\n",
              "      <td>1</td>\n",
              "      <td>1</td>\n",
              "      <td>2</td>\n",
              "      <td>46.33</td>\n",
              "      <td>7</td>\n",
              "      <td>16.2155</td>\n",
              "      <td>340.5255</td>\n",
              "      <td>3/3/2019</td>\n",
              "      <td>13:23</td>\n",
              "      <td>2</td>\n",
              "      <td>324.31</td>\n",
              "      <td>4.761905</td>\n",
              "      <td>16.2155</td>\n",
              "      <td>7.4</td>\n",
              "    </tr>\n",
              "    <tr>\n",
              "      <th>3</th>\n",
              "      <td>123-19-1176</td>\n",
              "      <td>0</td>\n",
              "      <td>0</td>\n",
              "      <td>0</td>\n",
              "      <td>1</td>\n",
              "      <td>0</td>\n",
              "      <td>58.22</td>\n",
              "      <td>8</td>\n",
              "      <td>23.2880</td>\n",
              "      <td>489.0480</td>\n",
              "      <td>1/27/2019</td>\n",
              "      <td>20:33</td>\n",
              "      <td>0</td>\n",
              "      <td>465.76</td>\n",
              "      <td>4.761905</td>\n",
              "      <td>23.2880</td>\n",
              "      <td>8.4</td>\n",
              "    </tr>\n",
              "    <tr>\n",
              "      <th>4</th>\n",
              "      <td>373-73-7910</td>\n",
              "      <td>0</td>\n",
              "      <td>0</td>\n",
              "      <td>1</td>\n",
              "      <td>1</td>\n",
              "      <td>3</td>\n",
              "      <td>86.31</td>\n",
              "      <td>7</td>\n",
              "      <td>30.2085</td>\n",
              "      <td>634.3785</td>\n",
              "      <td>2/8/2019</td>\n",
              "      <td>10:37</td>\n",
              "      <td>0</td>\n",
              "      <td>604.17</td>\n",
              "      <td>4.761905</td>\n",
              "      <td>30.2085</td>\n",
              "      <td>5.3</td>\n",
              "    </tr>\n",
              "  </tbody>\n",
              "</table>\n",
              "</div>"
            ],
            "text/plain": [
              "    Invoice ID  Branch  City  Customer type  Gender  Product line  Unit price  \\\n",
              "0  750-67-8428       0     0              0       0             0       74.69   \n",
              "1  226-31-3081       2     1              1       0             1       15.28   \n",
              "2  631-41-3108       0     0              1       1             2       46.33   \n",
              "3  123-19-1176       0     0              0       1             0       58.22   \n",
              "4  373-73-7910       0     0              1       1             3       86.31   \n",
              "\n",
              "   Quantity   Tax 5%     Total       Date   Time  Payment    cogs  \\\n",
              "0         7  26.1415  548.9715   1/5/2019  13:08        0  522.83   \n",
              "1         5   3.8200   80.2200   3/8/2019  10:29        1   76.40   \n",
              "2         7  16.2155  340.5255   3/3/2019  13:23        2  324.31   \n",
              "3         8  23.2880  489.0480  1/27/2019  20:33        0  465.76   \n",
              "4         7  30.2085  634.3785   2/8/2019  10:37        0  604.17   \n",
              "\n",
              "   gross margin percentage  gross income  Rating  \n",
              "0                 4.761905       26.1415     9.1  \n",
              "1                 4.761905        3.8200     9.6  \n",
              "2                 4.761905       16.2155     7.4  \n",
              "3                 4.761905       23.2880     8.4  \n",
              "4                 4.761905       30.2085     5.3  "
            ]
          },
          "execution_count": 264,
          "metadata": {},
          "output_type": "execute_result"
        }
      ],
      "source": [
        "ds.head()"
      ]
    },
    {
      "cell_type": "code",
      "execution_count": null,
      "metadata": {
        "id": "S0gEA8L3bDKI",
        "outputId": "c07e2cca-7446-4b4b-d716-0a1f3e3131e0"
      },
      "outputs": [
        {
          "name": "stdout",
          "output_type": "stream",
          "text": [
            "The Lowest SSE Value is:\n",
            "\t9.065074745608236\n",
            "\n",
            "----------------------------------------------------------\n",
            "\n",
            "\n",
            "\n",
            "The Location of the Centroid:\n",
            "\t[[0.10376897]\n",
            " [0.49437831]\n",
            " [0.90482888]]\n",
            "\n",
            "----------------------------------------------------------\n",
            "\n",
            "\n",
            "Iterations required to converge:\n",
            "\t3\n",
            "\n",
            "----------------------------------------------------------\n",
            "\n",
            "\n",
            "Labels:\n",
            "\t[1 1 1 2 1]\n",
            "\n",
            "----------------------------------------------------------\n",
            "\n",
            "Ploting of the kMeans\n"
          ]
        },
        {
          "data": {
            "image/png": "[encoded data removed]",
            "text/plain": [
              "<Figure size 432x288 with 1 Axes>"
            ]
          },
          "metadata": {},
          "output_type": "display_data"
        },
        {
          "name": "stdout",
          "output_type": "stream",
          "text": [
            "\n",
            "----------------------------------------------------------\n",
            "\n",
            "Ploting of scatter plot\n"
          ]
        },
        {
          "data": {
            "image/png": "[encoded data removed]",
            "text/plain": [
              "<Figure size 432x288 with 1 Axes>"
            ]
          },
          "metadata": {},
          "output_type": "display_data"
        }
      ],
      "source": [
        "# kmeans for Quantity and Rating\n",
        "kMeanFun('Quantity', 'Rating')"
      ]
    },
    {
      "cell_type": "code",
      "execution_count": null,
      "metadata": {
        "id": "GKVEjxEubDKI"
      },
      "outputs": [],
      "source": []
    },
    {
      "cell_type": "code",
      "execution_count": null,
      "metadata": {
        "id": "7Rsv2jChbDKI"
      },
      "outputs": [],
      "source": []
    },
    {
      "cell_type": "code",
      "execution_count": null,
      "metadata": {
        "id": "2WuZwAA3bDKI"
      },
      "outputs": [],
      "source": []
    },
    {
      "cell_type": "code",
      "execution_count": null,
      "metadata": {
        "id": "4uZnmWifbDKI"
      },
      "outputs": [],
      "source": []
    },
    {
      "cell_type": "code",
      "execution_count": null,
      "metadata": {
        "id": "U8PI8QnJbDKI"
      },
      "outputs": [],
      "source": []
    },
    {
      "cell_type": "code",
      "execution_count": null,
      "metadata": {
        "id": "yYWVIYZzbDKI"
      },
      "outputs": [],
      "source": []
    },
    {
      "cell_type": "code",
      "execution_count": null,
      "metadata": {
        "id": "17EDlOaObDKJ"
      },
      "outputs": [],
      "source": []
    },
    {
      "cell_type": "code",
      "execution_count": null,
      "metadata": {
        "id": "YPEELGeWbDKJ"
      },
      "outputs": [],
      "source": []
    }
  ],
  "metadata": {
    "colab": {
      "collapsed_sections": [],
      "provenance": []
    },
    "kernelspec": {
      "display_name": "Python 3 (ipykernel)",
      "language": "python",
      "name": "python3"
    },
    "language_info": {
      "codemirror_mode": {
        "name": "ipython",
        "version": 3
      },
      "file_extension": ".py",
      "mimetype": "text/x-python",
      "name": "python",
      "nbconvert_exporter": "python",
      "pygments_lexer": "ipython3",
      "version": "3.10.4"
    }
  },
  "nbformat": 4,
  "nbformat_minor": 0
}